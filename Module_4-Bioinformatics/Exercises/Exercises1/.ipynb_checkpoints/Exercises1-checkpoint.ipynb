{
 "cells": [
  {
   "cell_type": "markdown",
   "metadata": {
    "id": "HausSGH3ZbKc"
   },
   "source": [
    "# Python Basics"
   ]
  },
  {
   "cell_type": "markdown",
   "metadata": {
    "id": "phUJJIGEaMgT"
   },
   "source": [
    "## Why Python?"
   ]
  },
  {
   "cell_type": "markdown",
   "metadata": {
    "id": "2Pc470sfaRDH"
   },
   "source": [
    "There are many programming languages that offer different functionalities. Programmers usually end up using multiple languages depending on what they want to achieve. In bioinformatics, we are often interested in manipulating \"text\", such as DNA and protein sequences... \n",
    "\n",
    "Python is therfore a good choice for bioinformatics analysis because\n",
    "* It has consistent syntax\n",
    "* It has bulilt-in libraries that one can use\n",
    "* Allows for easy manipulatation of text\n"
   ]
  },
  {
   "cell_type": "markdown",
   "metadata": {
    "id": "GeWw-F8hb4tb"
   },
   "source": [
    "## Data Types"
   ]
  },
  {
   "cell_type": "markdown",
   "metadata": {
    "id": "d8AvofVWb4z2"
   },
   "source": [
    "Data types are items that help *classify* or *categorize* data. They represent what kind of *value* each item has. These items are called *variables*."
   ]
  },
  {
   "cell_type": "markdown",
   "metadata": {
    "id": "aIhLEVOWghNp"
   },
   "source": [
    "<img src=\"https://drive.google.com/uc?id=1fiIM9_ydwnK8gYn1mi40QDEiljkZkKy3\">"
   ]
  },
  {
   "cell_type": "markdown",
   "metadata": {
    "id": "VyZHmkS3gAlX"
   },
   "source": [
    "Variables can have any name and any value. For example:"
   ]
  },
  {
   "cell_type": "markdown",
   "metadata": {
    "id": "LBZFjqr9cqHu"
   },
   "source": [
    "A numerical variable is defined as:\n",
    "\n",
    "```\n",
    "numerical_var = 5\n",
    "```\n",
    "A \"string\", or character variable, is defined as:\n",
    "```\n",
    "string_var = \"Hello World\"\n",
    "```\n",
    "A combination of different data types assigned to one variable can be achieved using a list, for example like this:\n",
    "```\n",
    "my_list = [1, 1.34, \"Hello World!\"]\n",
    "```"
   ]
  },
  {
   "cell_type": "markdown",
   "metadata": {
    "id": "_99F1klTirsu"
   },
   "source": [
    "##### Detour 1: Print Function\n",
    "\n",
    "In Python you can use print() to print, or display, a specified message or value on the screen."
   ]
  },
  {
   "cell_type": "markdown",
   "metadata": {
    "id": "WA5jxRFib4-T"
   },
   "source": [
    "We can print a message like this:\n",
    "\n",
    "```\n",
    "print(\"Hi there\")\n",
    "```\n",
    "\n",
    "We can even print a numerical value:\n",
    "```\n",
    "print(193.39)\n",
    "```\n",
    "\n",
    "Also, we can print variables created before. We just have to enter the name of the variable, like this:\n",
    "```\n",
    "print(my_dna)\n",
    "```\n",
    "\n"
   ]
  },
  {
   "cell_type": "markdown",
   "metadata": {
    "id": "WpxE9EJlpjT4"
   },
   "source": [
    "\n",
    "Try printing the values of all variables assigned so far, as well as your own message. We have started this problem for you. \n",
    "\n",
    "Note 1: each print statement should be started on a new line or in a new cell.\n",
    "\n",
    "Note 2: To execute the code, press Shift + Enter, or press the play button in the cell."
   ]
  },
  {
   "cell_type": "code",
   "execution_count": null,
   "metadata": {
    "id": "1uZZVXTkj-Iw"
   },
   "outputs": [],
   "source": [
    "print(numerical_var)\n",
    "\n"
   ]
  },
  {
   "cell_type": "markdown",
   "metadata": {
    "id": "mZVEA8NDy9Mj"
   },
   "source": [
    "##### Detour 2: Comments\n",
    "Something very useful in programming are \"comments\". \n",
    "\n",
    "In Python, the character \"#\" prevents the program from executing the line in front of which \"#\" is placed. This is often used for commenting, or annotating, code, or for preventing certain parts of the code from running (for example, parts that are no longer needed).\n",
    "\n",
    "Here an example of how comments work:"
   ]
  },
  {
   "cell_type": "code",
   "execution_count": 1,
   "metadata": {
    "colab": {
     "base_uri": "https://localhost:8080/"
    },
    "executionInfo": {
     "elapsed": 762,
     "status": "ok",
     "timestamp": 1629123290389,
     "user": {
      "displayName": "Arjana Begzati",
      "photoUrl": "",
      "userId": "03171661714546284763"
     },
     "user_tz": -120
    },
    "id": "KmbYA2NezwPp",
    "outputId": "d85732a0-5648-4fa6-ab03-731e1e90f60d"
   },
   "outputs": [
    {
     "name": "stdout",
     "output_type": "stream",
     "text": [
      "This is a line 1\n",
      "This is line 3\n"
     ]
    }
   ],
   "source": [
    "print('This is a line 1')\n",
    "#print('This is line 2')\n",
    "print('This is line 3')"
   ]
  },
  {
   "cell_type": "markdown",
   "metadata": {
    "id": "cX6FPWpDz4Hv"
   },
   "source": [
    "As you can see from the cell above, when commenting a line of code, the line changes color, allowing us to quickly spot comments. \n",
    "\n",
    "We will be using comments to give you instructions and hits."
   ]
  },
  {
   "cell_type": "markdown",
   "metadata": {
    "id": "41BE8zy3iiBp"
   },
   "source": [
    "Try it out yourself! Comment, and remove the comments below."
   ]
  },
  {
   "cell_type": "code",
   "execution_count": null,
   "metadata": {
    "colab": {
     "base_uri": "https://localhost:8080/"
    },
    "executionInfo": {
     "elapsed": 191,
     "status": "ok",
     "timestamp": 1627403919772,
     "user": {
      "displayName": "Karla Godinez-macias",
      "photoUrl": "",
      "userId": "16412989612094782376"
     },
     "user_tz": 420
    },
    "id": "crrYZ6wn046h",
    "outputId": "55c2c210-73fa-4741-de33-67d5f0d5c99f"
   },
   "outputs": [
    {
     "name": "stdout",
     "output_type": "stream",
     "text": [
      "Comment me\n",
      "Hello World\n"
     ]
    }
   ],
   "source": [
    "print('Comment me')\n",
    "print('Hello World')\n",
    "#print('Uncomment me')"
   ]
  },
  {
   "cell_type": "markdown",
   "metadata": {
    "id": "0kD0mAA6dRAB"
   },
   "source": [
    "### Exercises on Data Types"
   ]
  },
  {
   "cell_type": "markdown",
   "metadata": {
    "id": "unZgvwdCb435"
   },
   "source": [
    "Create a variable called **my_dna** as assign as its value the string: **ATGCGTA**\n"
   ]
  },
  {
   "cell_type": "code",
   "execution_count": null,
   "metadata": {
    "id": "gX8So7HSdOZ3"
   },
   "outputs": [],
   "source": [
    "# Write your code here\n"
   ]
  },
  {
   "cell_type": "markdown",
   "metadata": {
    "id": "v-9dV80JxV9Z"
   },
   "source": [
    "Now, let's create a numerical variable called **my_dna_length** and assign as its value the number of nucleotides in my_dna"
   ]
  },
  {
   "cell_type": "code",
   "execution_count": null,
   "metadata": {
    "id": "tBSbM6fuxXCz"
   },
   "outputs": [],
   "source": [
    "# Write your code here\n"
   ]
  },
  {
   "cell_type": "markdown",
   "metadata": {
    "id": "cbPzBWMTIEtF"
   },
   "source": [
    "##### Detour 3: Function len( )\n",
    "\n",
    "While it is easy to count the length of my_dna, as the number of characters increases the manual counting gets more difficult ...\n",
    "There is an easier way to do this in Python! We use a function called:\n",
    "```\n",
    "len()\n",
    "```\n",
    "We will describe functions like this one later in more detail, but in practice len() will count every character in a string or every item in a list. For example:\n",
    "```\n",
    "len(\"ABC\")\n",
    "```\n",
    "will count how many characters constitute \"ABC\".\n",
    "\n",
    "Try to get the number of nucleotides for my_dna using len( )."
   ]
  },
  {
   "cell_type": "code",
   "execution_count": null,
   "metadata": {
    "id": "yF0dsq6yIyNd"
   },
   "outputs": [],
   "source": [
    "# Place your code here\n"
   ]
  },
  {
   "cell_type": "markdown",
   "metadata": {
    "id": "-8yGrWq1zwaU"
   },
   "source": [
    "## Operators"
   ]
  },
  {
   "cell_type": "markdown",
   "metadata": {
    "id": "31KSn8ykz4az"
   },
   "source": [
    "Scientists constantly have to manipulate, modify and interpret their data. To do this with programming, we can use arithmetic symbols and operators.\n",
    "\n",
    "We can use them for truth value testing, comparisons, data type conversions, and many other things."
   ]
  },
  {
   "cell_type": "markdown",
   "metadata": {
    "id": "YL6oVVYC4Oo1"
   },
   "source": [
    "<img src=\"https://drive.google.com/uc?id=1-73goDs7Igl3jAfwmsOyy4vXHdbX78il\">"
   ]
  },
  {
   "cell_type": "markdown",
   "metadata": {
    "id": "zQ9qRbZMzwgb"
   },
   "source": [
    "Arithmetic and operator symbols can work for different data types, but they might do different things if the variable is string or integer, for example."
   ]
  },
  {
   "cell_type": "markdown",
   "metadata": {
    "id": "FGPQosSJLbWO"
   },
   "source": [
    "### Exercises on Operators"
   ]
  },
  {
   "cell_type": "code",
   "execution_count": null,
   "metadata": {
    "id": "am_P7P5_Lan4"
   },
   "outputs": [],
   "source": [
    "# Here we assigned some variables that you will need\n",
    "x = 3\n",
    "y = 7\n",
    "true_bool = True\n",
    "false_bool = False\n",
    "str_1 = \"Hello\"\n",
    "str_2 = \"World\""
   ]
  },
  {
   "cell_type": "markdown",
   "metadata": {
    "id": "YFNrCW_Sq-wJ"
   },
   "source": [
    "Use operators to show if true_bool is equal to false_bool, and do some calculations with x and y.\n",
    "\n",
    "\n",
    "Hint: Refer to the diagram above to find the operation you need to use.\n"
   ]
  },
  {
   "cell_type": "code",
   "execution_count": null,
   "metadata": {
    "id": "5sGqo4_nqcor"
   },
   "outputs": [],
   "source": [
    "# Place your code here\n"
   ]
  },
  {
   "cell_type": "markdown",
   "metadata": {
    "id": "mlHp3CSnrDnp"
   },
   "source": [
    "Now, let's use operators for strings. The operators + and * can be also used with strings. For * you will need to to use a number. Try it out, and ask for help if you are stuck using + and * with strings."
   ]
  },
  {
   "cell_type": "code",
   "execution_count": null,
   "metadata": {
    "id": "cUXycvHjqrB2"
   },
   "outputs": [],
   "source": [
    "# Place your code here\n",
    "\n"
   ]
  },
  {
   "cell_type": "markdown",
   "metadata": {
    "id": "Zscmp8noJ4Wi"
   },
   "source": [
    "To conclude the Exercises on Operators:\n"
   ]
  },
  {
   "cell_type": "markdown",
   "metadata": {
    "id": "irk8pJRoJ6mC"
   },
   "source": [
    "Print the variable my_dna three times."
   ]
  },
  {
   "cell_type": "code",
   "execution_count": null,
   "metadata": {
    "id": "Pr353JFUJtUR"
   },
   "outputs": [],
   "source": [
    "# Your code here\n"
   ]
  },
  {
   "cell_type": "markdown",
   "metadata": {
    "id": "jzukb5ZTKAkA"
   },
   "source": [
    "Create a variable \"my_dna_2\" with the value \"CATCGGGTA\" and print the concatenation of my_dna with my_dna_2\n",
    "\n",
    "*Hint: concatenation is the string version for adding*"
   ]
  },
  {
   "cell_type": "code",
   "execution_count": null,
   "metadata": {
    "id": "Zze7DoVoJ3uS"
   },
   "outputs": [],
   "source": [
    "# Your code here\n"
   ]
  },
  {
   "cell_type": "markdown",
   "metadata": {
    "id": "fHC3bHDIKBar"
   },
   "source": [
    "On the screen show the following message: \n",
    "```\n",
    "My dna sequence is ATGCGTA and it has length 7\n",
    "```\n",
    "There is mulitple ways to do this! \n",
    "\n",
    "*Hint 1: you can use previously assigned variables*\n",
    "\n",
    "*Hint 2: when using + to concatenate, you can only join the same data type together*"
   ]
  },
  {
   "cell_type": "code",
   "execution_count": null,
   "metadata": {
    "id": "bAJbFxYxJ31W"
   },
   "outputs": [],
   "source": [
    "# Your code here\n"
   ]
  },
  {
   "cell_type": "markdown",
   "metadata": {
    "id": "Blr1L88x1u2b"
   },
   "source": [
    "## Functions"
   ]
  },
  {
   "cell_type": "markdown",
   "metadata": {
    "id": "SImxCc-brLZ5"
   },
   "source": [
    "Functions are blocks of code that performs an specific task. They typically do one single task, and ideally they do that one task well! We already introduced you to some functions, like print() and len(). \n",
    "\n",
    "There are two type of functions. Built-in functions are the ones that Python created and we can use but not modify (for example print() and len()). The most common built-in functions are [here](https://docs.python.org/3/library/functions.html).\n",
    "\n",
    "A cool thing about programming is that we can create our own functions to serve our needs. To create a function in Python, we use the following format:"
   ]
  },
  {
   "cell_type": "code",
   "execution_count": null,
   "metadata": {
    "id": "sE1ERCasYVob"
   },
   "outputs": [],
   "source": [
    "# This is called defining a function\n",
    "def say(): # say is the name of the function that we will later use to \"call\" the function\n",
    "    greeting = 'Hello'\n",
    "    print(greeting)"
   ]
  },
  {
   "cell_type": "markdown",
   "metadata": {
    "id": "Hh4jGsaWuFlF"
   },
   "source": [
    "To \"execute\" or run a function, we write the name of the function followed by round brackets. When executing, or running the code, the function will perform, its task. For example:"
   ]
  },
  {
   "cell_type": "code",
   "execution_count": null,
   "metadata": {
    "colab": {
     "base_uri": "https://localhost:8080/"
    },
    "executionInfo": {
     "elapsed": 195,
     "status": "ok",
     "timestamp": 1626361987061,
     "user": {
      "displayName": "Karla Godinez-macias",
      "photoUrl": "",
      "userId": "16412989612094782376"
     },
     "user_tz": 420
    },
    "id": "ZkUREE0VuPXu",
    "outputId": "fd5e8c71-351b-4db3-e244-cd3c1822d62b"
   },
   "outputs": [
    {
     "name": "stdout",
     "output_type": "stream",
     "text": [
      "Hello\n"
     ]
    }
   ],
   "source": [
    "say()"
   ]
  },
  {
   "cell_type": "markdown",
   "metadata": {
    "id": "0EryaUOqtuu9"
   },
   "source": [
    "Functions can take in *parameters* and do something with them. To do this, we specify the name of the parameter inside the parenthesis, like this:"
   ]
  },
  {
   "cell_type": "code",
   "execution_count": 4,
   "metadata": {
    "executionInfo": {
     "elapsed": 213,
     "status": "ok",
     "timestamp": 1629123955671,
     "user": {
      "displayName": "Arjana Begzati",
      "photoUrl": "",
      "userId": "03171661714546284763"
     },
     "user_tz": -120
    },
    "id": "ZH6I6MejwXGq"
   },
   "outputs": [],
   "source": [
    "def say_my_name(name):\n",
    "    greeting = 'Hello my name is ' + name\n",
    "    print(greeting)"
   ]
  },
  {
   "cell_type": "markdown",
   "metadata": {
    "id": "GTMvZz52xva0"
   },
   "source": [
    "To execute with specific parameters, we input the values of the parameters. We can use the same function with different values for its parameters:"
   ]
  },
  {
   "cell_type": "code",
   "execution_count": 5,
   "metadata": {
    "colab": {
     "base_uri": "https://localhost:8080/"
    },
    "executionInfo": {
     "elapsed": 3,
     "status": "ok",
     "timestamp": 1629123957389,
     "user": {
      "displayName": "Arjana Begzati",
      "photoUrl": "",
      "userId": "03171661714546284763"
     },
     "user_tz": -120
    },
    "id": "N-F6dnXux-sD",
    "outputId": "de53c1a2-1303-4a81-e678-7fbbd26bc842"
   },
   "outputs": [
    {
     "name": "stdout",
     "output_type": "stream",
     "text": [
      "Hello my name is Karla\n",
      "Hello my name is Arjana\n"
     ]
    }
   ],
   "source": [
    "# You can do this:\n",
    "say_my_name('Karla')\n",
    "say_my_name('Arjana')"
   ]
  },
  {
   "cell_type": "code",
   "execution_count": 6,
   "metadata": {
    "colab": {
     "base_uri": "https://localhost:8080/"
    },
    "executionInfo": {
     "elapsed": 3,
     "status": "ok",
     "timestamp": 1629123957390,
     "user": {
      "displayName": "Arjana Begzati",
      "photoUrl": "",
      "userId": "03171661714546284763"
     },
     "user_tz": -120
    },
    "id": "hKDBabXIWWCk",
    "outputId": "56227958-82f8-45b0-d04a-8c2465b46931"
   },
   "outputs": [
    {
     "name": "stdout",
     "output_type": "stream",
     "text": [
      "Hello my name is Karla\n",
      "Hello my name is Arjana\n"
     ]
    }
   ],
   "source": [
    "# Or you can do this:\n",
    "say_my_name(name = 'Karla')\n",
    "say_my_name(name = 'Arjana')"
   ]
  },
  {
   "cell_type": "markdown",
   "metadata": {
    "id": "XITPAbPRTkFb"
   },
   "source": [
    "Now try printing your name!"
   ]
  },
  {
   "cell_type": "code",
   "execution_count": null,
   "metadata": {
    "id": "KfQrp7AtTn8_"
   },
   "outputs": [],
   "source": [
    "# Your code here\n"
   ]
  },
  {
   "cell_type": "markdown",
   "metadata": {
    "id": "kkY6SP-zyg6M"
   },
   "source": [
    "Sometimes it is useful to have a function that returns a value. For this, we use \"return\" at the end of the function. A returned value can then be used outside the function, in contrast to a printed value which can only be viewed."
   ]
  },
  {
   "cell_type": "code",
   "execution_count": null,
   "metadata": {
    "colab": {
     "base_uri": "https://localhost:8080/"
    },
    "executionInfo": {
     "elapsed": 13,
     "status": "ok",
     "timestamp": 1626363482518,
     "user": {
      "displayName": "Karla Godinez-macias",
      "photoUrl": "",
      "userId": "16412989612094782376"
     },
     "user_tz": 420
    },
    "id": "JuBKufTFyddI",
    "outputId": "5d238930-63ea-4e94-dbc8-830c6082b8ef"
   },
   "outputs": [
    {
     "data": {
      "text/plain": [
       "5"
      ]
     },
     "execution_count": 16,
     "metadata": {
      "tags": []
     },
     "output_type": "execute_result"
    }
   ],
   "source": [
    "def summation(var1,var2):\n",
    "    s = var1 + var2\n",
    "    return(s)\n",
    "\n",
    "\n",
    "summation(1,4) # If function is called at the end of the cell, the returned value will be automatically \"printed\". \n",
    "# If the function is called within other code you need to do print(summation(1,4)) to see the returned value."
   ]
  },
  {
   "cell_type": "markdown",
   "metadata": {
    "id": "QvyidP_aXmMy"
   },
   "source": [
    "You can save the returned value as a new variable, like this:"
   ]
  },
  {
   "cell_type": "code",
   "execution_count": null,
   "metadata": {
    "id": "i2PmSSHNXmbV"
   },
   "outputs": [],
   "source": [
    "s = summation(1,4)"
   ]
  },
  {
   "cell_type": "markdown",
   "metadata": {
    "id": "o8eCCUkw0Big"
   },
   "source": [
    "If the operator is valid for different data types, one function can be used in multiple ways. For example, \"summation(var1,var2)\" can be used for numbers, strings, and even lists..."
   ]
  },
  {
   "cell_type": "code",
   "execution_count": null,
   "metadata": {
    "colab": {
     "base_uri": "https://localhost:8080/"
    },
    "executionInfo": {
     "elapsed": 190,
     "status": "ok",
     "timestamp": 1626363546798,
     "user": {
      "displayName": "Karla Godinez-macias",
      "photoUrl": "",
      "userId": "16412989612094782376"
     },
     "user_tz": 420
    },
    "id": "xiXIqFUozzTP",
    "outputId": "c2329801-5d89-4240-b59e-810726fe87ac"
   },
   "outputs": [
    {
     "name": "stdout",
     "output_type": "stream",
     "text": [
      "7.5\n",
      "hello world\n",
      "[1, 2, 3, 4, 5, 6]\n"
     ]
    }
   ],
   "source": [
    "print(summation(4,3.5))\n",
    "print(summation('hello ','world'))\n",
    "list_1 = [1,2,3]\n",
    "print(summation(list_1,[4,5,6]))"
   ]
  },
  {
   "cell_type": "markdown",
   "metadata": {
    "id": "dpVCwA03z2Of"
   },
   "source": [
    "### Exercises on Functions"
   ]
  },
  {
   "cell_type": "markdown",
   "metadata": {
    "id": "UeepmYW_z4pM"
   },
   "source": [
    "Create a function called up_seq_down that does the following:\n",
    "\n",
    "1. Receives as parameter a DNA sequence\n",
    "2. Creates variable called upstream with value AAA\n",
    "3. Creates variable called downstream with value GGG\n",
    "4. Concatenates upstream, the DNA sequence (input) and downstream\n",
    "5. Returns the concatenated sequence\n",
    "\n",
    "Next, run your function with some different DNA sequences as input.\n",
    "\n",
    "*Hint: Your output should look something like this*\n",
    "```\n",
    "AAATCGAGTGCACTCGGG\n",
    "```\n"
   ]
  },
  {
   "cell_type": "code",
   "execution_count": null,
   "metadata": {
    "id": "YRp2pJs1yMFh"
   },
   "outputs": [],
   "source": [
    "# Create your function here\n",
    "\n"
   ]
  },
  {
   "cell_type": "markdown",
   "metadata": {
    "id": "OpVl4bDz19qH"
   },
   "source": [
    "## Files"
   ]
  },
  {
   "cell_type": "markdown",
   "metadata": {
    "id": "syvdlMqo190J"
   },
   "source": [
    "Python is specially good for working with text files. It is easy to open, write, read, save, or edit the content of a text file. \n",
    "\n",
    "You can learn more about files [here](https://docs.python.org/3/tutorial/inputoutput.html#reading-and-writing-files) (optional).\n"
   ]
  },
  {
   "cell_type": "markdown",
   "metadata": {
    "id": "rTtLsqA4lZp7"
   },
   "source": [
    "Either to access the content of an existing file, or to create a file from scratch, we use the function \"open( )\", and specify what we intend to do with the file. We can, for example, write (\"w\") a file like this:\n",
    "```\n",
    "f = open('my_file.txt','w')\n",
    "f.write('My first file\\n')\n",
    "f.write('This is line two\\n')\n",
    "f.write('And line three')\n",
    "f.close()\n",
    "```\n",
    "Above we create a text file called \"my_file\", assigned it to the variable f, and wrote in it using the function \"write( )\" (The \"\\n\" starts a new line). At last, we used f.close( ) to tell the computer we are done using the file and it can be created on the computer."
   ]
  },
  {
   "cell_type": "markdown",
   "metadata": {
    "id": "n8RwcOAulaD5"
   },
   "source": [
    "### Exercises on Files"
   ]
  },
  {
   "cell_type": "markdown",
   "metadata": {
    "id": "nAxqFhg4laJk"
   },
   "source": [
    "Let's try to recreate the example above, creating our first file."
   ]
  },
  {
   "cell_type": "code",
   "execution_count": null,
   "metadata": {
    "id": "fbin076Hmy0M"
   },
   "outputs": [],
   "source": [
    "# Place your code here\n"
   ]
  },
  {
   "cell_type": "markdown",
   "metadata": {
    "id": "YU9ZirJknK8c"
   },
   "source": [
    "Now that we have created a file, we can try to read and print its content! To do so, we will use the function \"read( )\" as follows:\n",
    "```\n",
    "f = open('my_file.txt','r')\n",
    "txt = f.read()\n",
    "f.close()\n",
    "print(txt)\n",
    "```"
   ]
  },
  {
   "cell_type": "markdown",
   "metadata": {
    "id": "YphyOmECnSsC"
   },
   "source": [
    "Use the template above to read and print the content of the file you created in the previous step."
   ]
  },
  {
   "cell_type": "code",
   "execution_count": null,
   "metadata": {
    "id": "IyUIE4H3nLyO"
   },
   "outputs": [],
   "source": [
    "# Place your code here\n"
   ]
  },
  {
   "cell_type": "markdown",
   "metadata": {
    "id": "Qeac9idNtkC0"
   },
   "source": [
    "We can also use function \"readlines( )\" to create a list containing each line of the file.\n",
    "```\n",
    "f = open('my_file.txt','r')\n",
    "txt = f.readlines()\n",
    "f.close()\n",
    "print(txt)\n",
    "```"
   ]
  },
  {
   "cell_type": "markdown",
   "metadata": {
    "id": "1BWfYHUhn5N4"
   },
   "source": [
    "There is a file called \"sequences.fasta\" available to you in the same folder as this notebook. Open and read the file, then print its content using read() or readlines()."
   ]
  },
  {
   "cell_type": "code",
   "execution_count": null,
   "metadata": {
    "id": "l9BgsOV2nz4m"
   },
   "outputs": [],
   "source": [
    "# Place your code here\n"
   ]
  },
  {
   "cell_type": "markdown",
   "metadata": {
    "id": "Xy5ooM3t196p"
   },
   "source": [
    "## Loops"
   ]
  },
  {
   "cell_type": "markdown",
   "metadata": {
    "id": "cK_6_7umyeCX"
   },
   "source": [
    "Loops are a way to iteratively go over a list or string (or any other data type that is iterable) and do the same thing to each item. (For more info see [here](https://www.learnpython.org/en/Loops))."
   ]
  },
  {
   "cell_type": "code",
   "execution_count": null,
   "metadata": {
    "id": "L0uzpsCZ0Gmz"
   },
   "outputs": [],
   "source": [
    "# Run this cell to see how loops work\n",
    "prime_nums = [2, 3, 5, 7]\n",
    "for prime in prime_nums:\n",
    "    print(prime)"
   ]
  },
  {
   "cell_type": "markdown",
   "metadata": {
    "id": "e8krUHjV0THX"
   },
   "source": [
    "Next, go through a list of the numbers from 1 to 10 and display their square. "
   ]
  },
  {
   "cell_type": "code",
   "execution_count": null,
   "metadata": {
    "id": "D1Dg80mO0Tic"
   },
   "outputs": [],
   "source": [
    "# Place your code here.\n"
   ]
  },
  {
   "cell_type": "markdown",
   "metadata": {
    "id": "jgYbA_8QZT9Y"
   },
   "source": [
    "# Measurements Along the Central Dogma"
   ]
  },
  {
   "cell_type": "markdown",
   "metadata": {
    "id": "eEmv__D41UQ5"
   },
   "source": [
    "Now that we have some Python experience, let's try to do some bioinformatics analyses."
   ]
  },
  {
   "cell_type": "markdown",
   "metadata": {
    "id": "U9DlHyfr1eYv"
   },
   "source": [
    "To start, create a variable calle dna_seq and assign **agtCAgtaactaGGatgcatatgacgTGatcGtGA** as its value"
   ]
  },
  {
   "cell_type": "code",
   "execution_count": null,
   "metadata": {
    "id": "5sEnm3pyZTPc"
   },
   "outputs": [],
   "source": [
    "# Place your code here\n"
   ]
  },
  {
   "cell_type": "markdown",
   "metadata": {
    "id": "-tYBZ4b119P0"
   },
   "source": [
    "Now, save in dna_seq_len the number of nucleotides of dna_seq. Remember to use a Python built-in function to do so."
   ]
  },
  {
   "cell_type": "code",
   "execution_count": null,
   "metadata": {
    "id": "oGBy8FNaZTdy"
   },
   "outputs": [],
   "source": [
    "# Place your code here\n"
   ]
  },
  {
   "cell_type": "markdown",
   "metadata": {
    "id": "8Go8KkPy2Llr"
   },
   "source": [
    "Show the following message on screen: “The length of my dna sequence X is Y”, where X is dna_seq and Y dna_seq_len \n"
   ]
  },
  {
   "cell_type": "code",
   "execution_count": null,
   "metadata": {
    "id": "fUKbyfacZThR"
   },
   "outputs": [],
   "source": [
    "# Place your code here\n"
   ]
  },
  {
   "cell_type": "markdown",
   "metadata": {
    "id": "BuLZYkFADe5R"
   },
   "source": [
    "##### Detour 4: Indexing"
   ]
  },
  {
   "cell_type": "markdown",
   "metadata": {
    "id": "gvbfACSC2ppW"
   },
   "source": [
    "Sometimes we need to access only a portion of a sequence (a *substring*). To do this, we use \"[x]\" to get a single position in a data type, or \"[x : y]\" to get everything from position x - y, where x is included and y is excluded. \n",
    "\n",
    "Substrings can be very informative in bioinformatics. For example, substrings from the genome of different organisms can show a pattern and help us infer how closely related they are.\n",
    "\n",
    "Let's print some substrings from dna_seq.\n",
    "\n",
    "1. Print the 3rd nucleotide in dna_seq. (*Note: In Python we start counting from 0, so if you want the first item you use [0]*)\n",
    "2. Print the substring from the 3rd to 5th position (inclusive) (*Pay attention to whether the 5th position is really included in your implementation*)\n",
    "2. Print the last nucledotide of sequence\n",
    "3. Print position 1, 4, and what remains from the 6th position to end of sequence. (*Hint: use operators if helpful.*)\n"
   ]
  },
  {
   "cell_type": "code",
   "execution_count": null,
   "metadata": {
    "id": "UDU4STtY2pBW"
   },
   "outputs": [],
   "source": [
    "# Place your code here\n"
   ]
  },
  {
   "cell_type": "markdown",
   "metadata": {
    "id": "z8eUAdQQDswk"
   },
   "source": [
    "##### Detour 5: .lower(), .upper(), .count( )"
   ]
  },
  {
   "cell_type": "markdown",
   "metadata": {
    "id": "839URC655zxe"
   },
   "source": [
    "While we can work with our dna_seq in lower and upper letters, it is a better practice to use either or. To do this, we can convert the whole sequence into lower or upper format like this:\n",
    "```\n",
    "'aTAcgg'.lower()\n",
    "'aTAcgg'.upper()\n",
    "```"
   ]
  },
  {
   "cell_type": "markdown",
   "metadata": {
    "id": "0FI99TW66jSg"
   },
   "source": [
    "Assign the lower case version of dna_seq to dna_seq_l. Assign the upper case version of dna_seq to dna_seq_u. Use whichever version you prefer for the remaining of these exercises."
   ]
  },
  {
   "cell_type": "code",
   "execution_count": null,
   "metadata": {
    "id": "blKgONwYZTpM"
   },
   "outputs": [],
   "source": [
    "# Place your code here\n"
   ]
  },
  {
   "cell_type": "markdown",
   "metadata": {
    "id": "UgQtoBGK42lc"
   },
   "source": [
    "As we discussed in lecture zero, it is useful to know the distribution of A, T, C and G's in our DNA sequences. To do this, we can use the function .count( ). To use it, we need to give it the string and specify within the parenthesis what element we want to count, like this:\n",
    "```\n",
    "'att'.count('t')\n",
    "```\n",
    "\n",
    "How many A,T,C and G's are in dna_seq?"
   ]
  },
  {
   "cell_type": "code",
   "execution_count": null,
   "metadata": {
    "id": "pvt-OkizZTlo"
   },
   "outputs": [],
   "source": [
    "# Place your code here\n"
   ]
  },
  {
   "cell_type": "markdown",
   "metadata": {
    "id": "E6MhB2LHgV1z"
   },
   "source": [
    "It is a good practice to do a quality check of the data before starting any analysis. Calculating the GC content (percentage of G and C bases in the genome) can help us determine if the distribution of bases is as expected.\n",
    "\n",
    "A simple way to do this, is count the number of G's and C's in our genome, and get the percentage from there. The formula to calculate GC content is:\n",
    "```\n",
    "(Count C's + Count G's) / (Count A's + Count C's + Count G's + Count T's)\n",
    "```\n"
   ]
  },
  {
   "cell_type": "markdown",
   "metadata": {
    "id": "uPRLKh7RiJMR"
   },
   "source": [
    "For this part, we are going to do some calculations with dna_seq. Use what we have learned so far to show the following output using variables and functions.\n",
    "```\n",
    "The dna sequence is AGTCAGTAACTAGGATGCATATGACGTGATCGTGA\n",
    "length : 35\n",
    "A count: 11\n",
    "T count: 9\n",
    "C count: 5\n",
    "G count: 10\n",
    "GC content is 0.42857142857142855\n",
    "```"
   ]
  },
  {
   "cell_type": "markdown",
   "metadata": {
    "id": "5jIqiKqy6Qh2"
   },
   "source": [
    "If your output doesn't quite looks like this, ask your classmates or the TA for help."
   ]
  },
  {
   "cell_type": "code",
   "execution_count": null,
   "metadata": {
    "id": "7CBSNvhwhP8a"
   },
   "outputs": [],
   "source": [
    "# Place your code here\n"
   ]
  },
  {
   "cell_type": "markdown",
   "metadata": {
    "id": "APWiU5k8_gYf"
   },
   "source": [
    "After the quality check, we are ready to do our first bioinformatic data manipulation.\n",
    "\n",
    "We are going to learn how to convert a DNA sequence into a protein sequence, similarly to what we did in lecture zero, just this time using Python!\n",
    "<img src=\"https://drive.google.com/uc?id=1q-IZtNL_Do7Gcoc0LsOc87ggv0UVzHLq\">\n"
   ]
  },
  {
   "cell_type": "markdown",
   "metadata": {
    "id": "V4ikwl4i68lk"
   },
   "source": [
    "First, we need to get the messenger RNA (mRNA) based on our DNA sequence. This can be tricky but we will walk you through each step and also introduce you to some additional useful things. In bioinformatics, it is important to break down a problem into smaller subproblems."
   ]
  },
  {
   "cell_type": "markdown",
   "metadata": {
    "id": "pVIjfLw67lR9"
   },
   "source": [
    "<img src=\"https://drive.google.com/uc?id=11Ed_ZQozSvacKkjpg75l9YTPfG7riSVm\">\n"
   ]
  },
  {
   "cell_type": "markdown",
   "metadata": {
    "id": "muh6DVtP-dKx"
   },
   "source": [
    "Take a close look at the image above. Assume that the DNA sequence we have given you is the template strand in the 5'->3' direction. The steps to getting the mRNA include:\n",
    "\n",
    "1. Reversing our template DNA sequence. \n",
    "2. Transcribing the reversed DNA sequence, meaning getting a C when there is a G, a G when there is a C, an A when there is a T, and a U where there is an A."
   ]
  },
  {
   "cell_type": "markdown",
   "metadata": {
    "id": "U3QfwW417rKi"
   },
   "source": [
    "To solve subproblem 1, we can use\n",
    "```\n",
    "dna_seq[::-1]\n",
    "```\n",
    "Do not worry about the details of this operation for now, just see below how it does the job.\n"
   ]
  },
  {
   "cell_type": "code",
   "execution_count": null,
   "metadata": {
    "colab": {
     "base_uri": "https://localhost:8080/"
    },
    "executionInfo": {
     "elapsed": 22,
     "status": "ok",
     "timestamp": 1626458697177,
     "user": {
      "displayName": "Karla Godinez-macias",
      "photoUrl": "",
      "userId": "16412989612094782376"
     },
     "user_tz": 420
    },
    "id": "DJVfBvPcfdMY",
    "outputId": "f5853c63-fa5d-40ba-c2e1-58a803de645e"
   },
   "outputs": [
    {
     "name": "stdout",
     "output_type": "stream",
     "text": [
      "ABC\n",
      "CBA\n"
     ]
    }
   ],
   "source": [
    "seq = 'ABC'\n",
    "print(seq)\n",
    "print(seq[::-1])"
   ]
  },
  {
   "cell_type": "markdown",
   "metadata": {
    "id": "cYfwyiFAAqnF"
   },
   "source": [
    "Now reverse dna_seq and assign it to a new variable, and print it to check that it is correct.\n",
    "\n",
    "Note: use either the lower or upper case version of dna_seq you made earlier."
   ]
  },
  {
   "cell_type": "code",
   "execution_count": null,
   "metadata": {
    "id": "VsECbxrY7_Rd"
   },
   "outputs": [],
   "source": [
    "# We have started this for you\n",
    "rev_dna_seq =\n",
    "print(rev_dna_seq)"
   ]
  },
  {
   "cell_type": "markdown",
   "metadata": {
    "id": "zFREyGhUEAhM"
   },
   "source": [
    "##### Detour 6: Dictionaries"
   ]
  },
  {
   "cell_type": "markdown",
   "metadata": {
    "id": "q0MCvWtmA-I2"
   },
   "source": [
    "Next, we need to do the transcription. A useful data type to do this and many other things are **dictionaries**. Dictionaries contain keys and values, just like a real world dictionary contains words and definitions, respectively. Unlike in a real world dictionary, items in a Python dictionary are not order alphabetically or in any other order. Regardless, we can easily access the values for a particular key like this: \n",
    "```\n",
    "my_dic[key]\n",
    "```\n",
    "Below we created a dictionary that has integers as the keys and the spelled out numbers as the values. In dictionaries, the keys are always unique, meaning you cannot have the same key assigned to different values at the same time."
   ]
  },
  {
   "cell_type": "code",
   "execution_count": 7,
   "metadata": {
    "colab": {
     "base_uri": "https://localhost:8080/"
    },
    "executionInfo": {
     "elapsed": 205,
     "status": "ok",
     "timestamp": 1629125329226,
     "user": {
      "displayName": "Arjana Begzati",
      "photoUrl": "",
      "userId": "03171661714546284763"
     },
     "user_tz": -120
    },
    "id": "IcY_l_2XkbAQ",
    "outputId": "a6924c99-002a-4937-9df5-6885ebc5d3c4"
   },
   "outputs": [
    {
     "name": "stdout",
     "output_type": "stream",
     "text": [
      "{1: 'one', 2: 'two', 3: 'three'}\n",
      "key for 1:  one\n",
      "key for 3:  three\n"
     ]
    }
   ],
   "source": [
    "my_dic = {1:'one',2:'two',3:'three'}\n",
    "print(my_dic)\n",
    "print('key for 1: ', my_dic[1])\n",
    "print('key for 3: ', my_dic[3])"
   ]
  },
  {
   "cell_type": "markdown",
   "metadata": {
    "id": "QtFswEpHEEOv"
   },
   "source": [
    "Now let's create a dictionary that will be useful to do the transcription. We have started this problem for you to give you an idea of what that dictionary looks like:"
   ]
  },
  {
   "cell_type": "code",
   "execution_count": 8,
   "metadata": {
    "executionInfo": {
     "elapsed": 244,
     "status": "ok",
     "timestamp": 1629125433473,
     "user": {
      "displayName": "Arjana Begzati",
      "photoUrl": "",
      "userId": "03171661714546284763"
     },
     "user_tz": -120
    },
    "id": "-4nXMSknET4P"
   },
   "outputs": [],
   "source": [
    "# Complete the dictionary (make sure you use either upper or lower case letters, depending on your rev_dna_seq)\n",
    "transcription_dic = {'C':'G', }"
   ]
  },
  {
   "cell_type": "markdown",
   "metadata": {
    "id": "cIJQ6EXDEq_k"
   },
   "source": [
    "Now comes the hard part! Take rev_dna_seq and transcribe it.\n",
    " "
   ]
  },
  {
   "cell_type": "code",
   "execution_count": null,
   "metadata": {
    "id": "OVfuUyFXFCUU"
   },
   "outputs": [],
   "source": [
    "# We have started this for you and added comments along the way\n",
    "mrna_seq = '' # This is an empty string that we will add to in order to create the final mRNA sequence\n",
    "for n in rev_dna_seq: # Use a loop to go through each nucleotide at a time\n",
    "  # Get the complement nucleotide from transcription_dic, and assign it to a new temporary variable\n",
    "\n",
    "  # Now add the complement nucleotide to the the mrna string we initiated at the beginning. mrna will be updated at each iteration to reflect a growing transcript\n",
    "\n",
    "# Lastly print out your transcript! (This should be done outside the loop.)\n"
   ]
  },
  {
   "cell_type": "markdown",
   "metadata": {
    "id": "33wULQFxGJoo"
   },
   "source": [
    "Extra exercise: try doing what you did above now using a function that takes in a reversed DNA template sequence and returns the transcript!"
   ]
  },
  {
   "cell_type": "code",
   "execution_count": null,
   "metadata": {
    "id": "3FisYB1mGakN"
   },
   "outputs": [],
   "source": [
    "# Optional\n",
    "\n"
   ]
  },
  {
   "cell_type": "markdown",
   "metadata": {
    "id": "BMSu04oDllX7"
   },
   "source": [
    "Last but not least, let's translate the mRNA sequence into a protein. \n",
    "\n",
    "\n",
    "To transcribe our mRNA, we first need to create the dictionary of codons - sequences of three consecutive bases.\n",
    "Use the codon table below to figure out the amino acid for each codon."
   ]
  },
  {
   "cell_type": "markdown",
   "metadata": {
    "id": "-vH50qq0kjei"
   },
   "source": [
    "<img src=\"https://drive.google.com/uc?id=1xhzYFwNAQmUyHFxKLBK9SeQVL1F6ZVJf\">"
   ]
  },
  {
   "cell_type": "code",
   "execution_count": null,
   "metadata": {
    "colab": {
     "base_uri": "https://localhost:8080/"
    },
    "executionInfo": {
     "elapsed": 300,
     "status": "ok",
     "timestamp": 1626460679738,
     "user": {
      "displayName": "Karla Godinez-macias",
      "photoUrl": "",
      "userId": "16412989612094782376"
     },
     "user_tz": 420
    },
    "id": "SD4eaqHjlm_A",
    "outputId": "ac7b48e6-5a58-4bb7-e3b0-7c2f663803f4"
   },
   "outputs": [
    {
     "data": {
      "text/plain": [
       "{'aug': 'm'}"
      ]
     },
     "execution_count": 14,
     "metadata": {
      "tags": []
     },
     "output_type": "execute_result"
    }
   ],
   "source": [
    "# Complete the codon dictionary (again pay attention to whether you should be using lower or upper case letters for your codons)\n",
    "aa_codon_dic = {'aug':'M'}\n",
    "\n",
    "aa_codon_dic"
   ]
  },
  {
   "cell_type": "markdown",
   "metadata": {
    "id": "uVmd5l-HV9Cd"
   },
   "source": [
    "##### Detour 7: Loops with Range"
   ]
  },
  {
   "cell_type": "markdown",
   "metadata": {
    "id": "d72V8jF9ki9J"
   },
   "source": [
    "In contrast to transcription where each DNA nucleotide is converted into a RNA nucleotide, for translation we need to look at three nucleotides at the same time for deciding what amino acid to convert it to. This requires that we loop through blocks of the mRNA sequence.\n",
    "\n",
    "To do this, we can use the function *range( )*, which creates a sequence of integers that we can then use in a loop. range(x, y, z) generates a sequence of integers from x to y with jumps of z. "
   ]
  },
  {
   "cell_type": "markdown",
   "metadata": {
    "id": "502iawBhnC0N"
   },
   "source": [
    "Before moving on to performing the translation of the mRNA sequence, play around with range( )."
   ]
  },
  {
   "cell_type": "code",
   "execution_count": null,
   "metadata": {
    "id": "P5PxH4KrX88c"
   },
   "outputs": [],
   "source": [
    "# Change x, y and z until you understand how range( ) works\n",
    "for i in range(x,y,z):\n",
    "    print(i+1)"
   ]
  },
  {
   "cell_type": "markdown",
   "metadata": {
    "id": "qy-mBhlLX2Zx"
   },
   "source": [
    "A fun thing about programming, is that you can combine many things together!\n",
    "\n",
    "We can, for example, use range() and len() together. This is especially helpful when we don't know the length of a sequence beforehand.\n",
    "\n",
    "range( ) works with one input only. In that case, Python will know to start at 0 and increase by one until the input value is reached.\n",
    "\n",
    "See what the code below prints."
   ]
  },
  {
   "cell_type": "code",
   "execution_count": null,
   "metadata": {
    "id": "M5vZz7T9pfsZ"
   },
   "outputs": [],
   "source": [
    "word = 'ABCDEFG'\n",
    "for i in range(len(word)):\n",
    "    print(i)"
   ]
  },
  {
   "cell_type": "markdown",
   "metadata": {
    "id": "nh9kgAEZpqqu"
   },
   "source": [
    "To instead print the first 1, 2, 3, etc. characters of word, we can also incorporate indexing of a string (refer to *Detour 4: Indexing* if you forgot how that works.)"
   ]
  },
  {
   "cell_type": "code",
   "execution_count": 9,
   "metadata": {
    "executionInfo": {
     "elapsed": 460,
     "status": "ok",
     "timestamp": 1629125806718,
     "user": {
      "displayName": "Arjana Begzati",
      "photoUrl": "",
      "userId": "03171661714546284763"
     },
     "user_tz": -120
    },
    "id": "qyTMIzAkX1i8"
   },
   "outputs": [],
   "source": [
    "# Try it out\n",
    "word = 'ABCDEFG'\n",
    "for i in range(len(word)):\n",
    "    print(word[0:i])"
   ]
  },
  {
   "cell_type": "markdown",
   "metadata": {
    "id": "k-VjHQNIWQPa"
   },
   "source": [
    "Now that you know how to use range() in loops, try converting mrna_seq to its protein sequence using the aa_codon dictionary you created ealier. (Note: this is a tricky question so do not get discouraged if it takes you a couple of tries to get it right!)\n",
    "\n",
    "You can save the protein in a new variable, and print it at the end, similiar to what we did for transcription."
   ]
  },
  {
   "cell_type": "code",
   "execution_count": null,
   "metadata": {
    "id": "KfF3V0DhnJKW"
   },
   "outputs": [],
   "source": [
    "# Place your code here\n"
   ]
  },
  {
   "cell_type": "markdown",
   "metadata": {
    "id": "LT_FrRqmI1m6"
   },
   "source": [
    "WELL DONE! You completed various real world bioinformatics problems and hopefully learned many new Python functions and tricks!"
   ]
  },
  {
   "cell_type": "markdown",
   "metadata": {
    "id": "IPU4c7wlJzoT"
   },
   "source": [
    "# References/Resources\n",
    "[Python Documentation](https://www.python.org/doc/)\n",
    "\n",
    "[Operators](https://docs.python.org/3/)\n",
    "\n",
    "Topics and explanations in this notebook were inspired by [yourgenome.org](https://www.yourgenome.org).\n",
    "\n",
    "Some exercises in this notebook were inspired by [Python for biologists](https://pythonforbiologists.com/upcoming-workshops/introduction-to-python-for-biologists-online-course-13th-24th-july-2020)\n",
    "\n",
    "\n",
    "\n",
    "\n",
    "\n",
    "# About this Notebook\n",
    "This notebook was created by Karla Godinez-Macias and Arjana Begzati for STARTneuro at UC San Diego."
   ]
  },
  {
   "cell_type": "code",
   "execution_count": null,
   "metadata": {},
   "outputs": [],
   "source": []
  }
 ],
 "metadata": {
  "colab": {
   "collapsed_sections": [],
   "name": "Exercises1.ipynb",
   "provenance": []
  },
  "kernelspec": {
   "display_name": "Python 3",
   "language": "python",
   "name": "python3"
  },
  "language_info": {
   "codemirror_mode": {
    "name": "ipython",
    "version": 3
   },
   "file_extension": ".py",
   "mimetype": "text/x-python",
   "name": "python",
   "nbconvert_exporter": "python",
   "pygments_lexer": "ipython3",
   "version": "3.7.2"
  },
  "toc": {
   "base_numbering": 1,
   "nav_menu": {
    "height": "335.994px",
    "width": "485px"
   },
   "number_sections": true,
   "sideBar": true,
   "skip_h1_title": false,
   "title_cell": "Table of Contents",
   "title_sidebar": "Contents",
   "toc_cell": false,
   "toc_position": {},
   "toc_section_display": true,
   "toc_window_display": false
  }
 },
 "nbformat": 4,
 "nbformat_minor": 1
}
