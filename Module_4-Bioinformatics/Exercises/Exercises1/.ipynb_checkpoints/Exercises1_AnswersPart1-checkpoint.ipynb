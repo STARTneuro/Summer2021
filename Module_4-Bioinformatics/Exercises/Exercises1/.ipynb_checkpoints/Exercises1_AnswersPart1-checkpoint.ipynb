{
 "cells": [
  {
   "cell_type": "markdown",
   "metadata": {
    "id": "HausSGH3ZbKc"
   },
   "source": [
    "# Python Basics"
   ]
  },
  {
   "cell_type": "markdown",
   "metadata": {
    "id": "phUJJIGEaMgT"
   },
   "source": [
    "## Why Python?"
   ]
  },
  {
   "cell_type": "markdown",
   "metadata": {
    "id": "2Pc470sfaRDH"
   },
   "source": [
    "There are many programming languages that offer different functionalities. Programmers usually end up using multiple languages depending on what they want to achieve. In bioinformatics, we are often interested in manipulating \"text\", such as DNA and protein sequences... \n",
    "\n",
    "Python is therfore a good choice for bioinformatics analysis because\n",
    "* It has consistent syntax\n",
    "* It has bulilt-in libraries that one can use\n",
    "* Allows for easy manipulatation of text\n"
   ]
  },
  {
   "cell_type": "markdown",
   "metadata": {
    "id": "GeWw-F8hb4tb"
   },
   "source": [
    "## Data Types"
   ]
  },
  {
   "cell_type": "markdown",
   "metadata": {
    "id": "d8AvofVWb4z2"
   },
   "source": [
    "Data types are items that help *classify* or *categorize* data. They represent what kind of *value* each item has. These items are called *variables*."
   ]
  },
  {
   "cell_type": "markdown",
   "metadata": {
    "id": "aIhLEVOWghNp"
   },
   "source": [
    "<img src=\"https://drive.google.com/uc?id=1fiIM9_ydwnK8gYn1mi40QDEiljkZkKy3\">"
   ]
  },
  {
   "cell_type": "markdown",
   "metadata": {
    "id": "VyZHmkS3gAlX"
   },
   "source": [
    "Variables can have any name and any value. For example:"
   ]
  },
  {
   "cell_type": "markdown",
   "metadata": {
    "id": "LBZFjqr9cqHu"
   },
   "source": [
    "A numerical variable is defined as:\n",
    "\n",
    "```\n",
    "numerical_var = 5\n",
    "```\n",
    "A \"string\", or character variable, is defined as:\n",
    "```\n",
    "string_var = \"Hello World\"\n",
    "```\n",
    "A combination of different data types assigned to one variable can be achieved using a list, for example like this:\n",
    "```\n",
    "my_list = [1, 1.34, \"Hello World!\"]\n",
    "```"
   ]
  },
  {
   "cell_type": "markdown",
   "metadata": {
    "id": "_99F1klTirsu"
   },
   "source": [
    "##### Detour 1: Print Function\n",
    "\n",
    "In Python you can use print() to print, or display, a specified message or value on the screen."
   ]
  },
  {
   "cell_type": "markdown",
   "metadata": {
    "id": "WA5jxRFib4-T"
   },
   "source": [
    "We can print a message like this:\n",
    "\n",
    "```\n",
    "print(\"Hi there\")\n",
    "```\n",
    "\n",
    "We can even print a numerical value:\n",
    "```\n",
    "print(193.39)\n",
    "```\n",
    "\n",
    "Also, we can print variables created before. We just have to enter the name of the variable, like this:\n",
    "```\n",
    "print(my_dna)\n",
    "```\n",
    "\n"
   ]
  },
  {
   "cell_type": "markdown",
   "metadata": {
    "id": "WpxE9EJlpjT4"
   },
   "source": [
    "\n",
    "Try printing the values of all variables assigned so far, as well as your own message. We have started this problem for you. \n",
    "\n",
    "Note 1: each print statement should be started on a new line or in a new cell.\n",
    "\n",
    "Note 2: To execute the code, press Shift + Enter, or press the play button in the cell."
   ]
  },
  {
   "cell_type": "code",
   "execution_count": 1,
   "metadata": {
    "colab": {
     "base_uri": "https://localhost:8080/"
    },
    "id": "1uZZVXTkj-Iw",
    "outputId": "94829b41-0250-4e6b-8e44-0ec054536e4c"
   },
   "outputs": [
    {
     "name": "stdout",
     "output_type": "stream",
     "text": [
      "5\n",
      "Hello World\n",
      "[1, 1.34, 'Hello World!']\n",
      "This is my own message - Good job today!\n"
     ]
    }
   ],
   "source": [
    "# ANSWER\n",
    "# assign the variables from above since we only showed them above in a text cell and didn't assign them in a coding cell \n",
    "numerical_var = 5 \n",
    "string_var = \"Hello World\"\n",
    "my_list = [1, 1.34, \"Hello World!\"]\n",
    "# print the variables\n",
    "print(numerical_var)\n",
    "print(string_var)\n",
    "print(my_list)\n",
    "print('This is my own message - Good job today!')"
   ]
  },
  {
   "cell_type": "markdown",
   "metadata": {
    "id": "mZVEA8NDy9Mj"
   },
   "source": [
    "##### Detour 2: Comments\n",
    "Something very useful in programming are \"comments\". \n",
    "\n",
    "In Python, the character \"#\" prevents the program from executing the line in front of which \"#\" is placed. This is often used for commenting, or annotating, code, or for preventing certain parts of the code from running (for example, parts that are no longer needed).\n",
    "\n",
    "Here an example of how comments work:"
   ]
  },
  {
   "cell_type": "code",
   "execution_count": null,
   "metadata": {
    "colab": {
     "base_uri": "https://localhost:8080/"
    },
    "id": "KmbYA2NezwPp",
    "outputId": "d85732a0-5648-4fa6-ab03-731e1e90f60d"
   },
   "outputs": [
    {
     "name": "stdout",
     "output_type": "stream",
     "text": [
      "This is a line 1\n",
      "This is line 3\n"
     ]
    }
   ],
   "source": [
    "print('This is a line 1')\n",
    "#print('This is line 2')\n",
    "print('This is line 3')"
   ]
  },
  {
   "cell_type": "markdown",
   "metadata": {
    "id": "cX6FPWpDz4Hv"
   },
   "source": [
    "As you can see from the cell above, when commenting a line of code, the line changes color, allowing us to quickly spot comments. \n",
    "\n",
    "We will be using comments to give you instructions and hits."
   ]
  },
  {
   "cell_type": "markdown",
   "metadata": {
    "id": "41BE8zy3iiBp"
   },
   "source": [
    "Try it out yourself! Comment, and remove the comments below."
   ]
  },
  {
   "cell_type": "code",
   "execution_count": null,
   "metadata": {
    "colab": {
     "base_uri": "https://localhost:8080/"
    },
    "id": "crrYZ6wn046h",
    "outputId": "55c2c210-73fa-4741-de33-67d5f0d5c99f"
   },
   "outputs": [
    {
     "name": "stdout",
     "output_type": "stream",
     "text": [
      "Comment me\n",
      "Hello World\n"
     ]
    }
   ],
   "source": [
    "print('Comment me')\n",
    "print('Hello World')\n",
    "#print('Uncomment me')"
   ]
  },
  {
   "cell_type": "markdown",
   "metadata": {
    "id": "0kD0mAA6dRAB"
   },
   "source": [
    "### Exercises on Data Types"
   ]
  },
  {
   "cell_type": "markdown",
   "metadata": {
    "id": "unZgvwdCb435"
   },
   "source": [
    "Create a variable called **my_dna** as assign as its value the string: **ATGCGTA**\n"
   ]
  },
  {
   "cell_type": "code",
   "execution_count": 7,
   "metadata": {
    "id": "gX8So7HSdOZ3"
   },
   "outputs": [],
   "source": [
    "# Write your code here\n",
    "# ANSWER\n",
    "my_dna = 'ATGCGTA'"
   ]
  },
  {
   "cell_type": "markdown",
   "metadata": {
    "id": "v-9dV80JxV9Z"
   },
   "source": [
    "Now, let's create a numerical variable called **my_dna_length** and assign as its value the number of nucleotides in my_dna"
   ]
  },
  {
   "cell_type": "code",
   "execution_count": null,
   "metadata": {
    "id": "tBSbM6fuxXCz"
   },
   "outputs": [],
   "source": [
    "# Write your code here\n",
    "# ANSWER\n",
    "my_dna_length = 7"
   ]
  },
  {
   "cell_type": "markdown",
   "metadata": {
    "id": "cbPzBWMTIEtF"
   },
   "source": [
    "##### Detour 3: Function len( )\n",
    "\n",
    "While it is easy to count the length of my_dna, as the number of characters increases the manual counting gets more difficult ...\n",
    "There is an easier way to do this in Python! We use a function called:\n",
    "```\n",
    "len()\n",
    "```\n",
    "We will describe functions like this one later in more detail, but in practice len() will count every character in a string or every item in a list. For example:\n",
    "```\n",
    "len(\"ABC\")\n",
    "```\n",
    "will count how many characters constitute \"ABC\".\n",
    "\n",
    "Try to get the number of nucleotides for my_dna using len( )."
   ]
  },
  {
   "cell_type": "code",
   "execution_count": null,
   "metadata": {
    "colab": {
     "base_uri": "https://localhost:8080/"
    },
    "id": "yF0dsq6yIyNd",
    "outputId": "54bfeca5-df55-45f7-fd0d-f480c0637052"
   },
   "outputs": [
    {
     "data": {
      "text/plain": [
       "7"
      ]
     },
     "execution_count": 3,
     "metadata": {
      "tags": []
     },
     "output_type": "execute_result"
    }
   ],
   "source": [
    "# Place your code here\n",
    "# ANSWER\n",
    "len(my_dna)"
   ]
  },
  {
   "cell_type": "markdown",
   "metadata": {
    "id": "-8yGrWq1zwaU"
   },
   "source": [
    "## Operators"
   ]
  },
  {
   "cell_type": "markdown",
   "metadata": {
    "id": "31KSn8ykz4az"
   },
   "source": [
    "Scientists constantly have to manipulate, modify and interpret their data. To do this with programming, we can use arithmetic symbols and operators.\n",
    "\n",
    "We can use them for truth value testing, comparisons, data type conversions, and many other things."
   ]
  },
  {
   "cell_type": "markdown",
   "metadata": {
    "id": "YL6oVVYC4Oo1"
   },
   "source": [
    "<img src=\"https://drive.google.com/uc?id=1-73goDs7Igl3jAfwmsOyy4vXHdbX78il\">"
   ]
  },
  {
   "cell_type": "markdown",
   "metadata": {
    "id": "zQ9qRbZMzwgb"
   },
   "source": [
    "Arithmetic and operator symbols can work for different data types, but they might do different things if the variable is string or integer, for example."
   ]
  },
  {
   "cell_type": "markdown",
   "metadata": {
    "id": "FGPQosSJLbWO"
   },
   "source": [
    "### Exercises on Operators"
   ]
  },
  {
   "cell_type": "code",
   "execution_count": 3,
   "metadata": {
    "id": "am_P7P5_Lan4"
   },
   "outputs": [],
   "source": [
    "# Here we assigned some variables that you will need\n",
    "x = 3\n",
    "y = 7\n",
    "true_bool = True\n",
    "false_bool = False\n",
    "str_1 = \"Hello\"\n",
    "str_2 = \"World\""
   ]
  },
  {
   "cell_type": "markdown",
   "metadata": {
    "id": "YFNrCW_Sq-wJ"
   },
   "source": [
    "Use operators to show if true_bool is equal to false_bool, and do some calculations with x and y.\n",
    "\n",
    "\n",
    "Hint: Refer to the diagram above to find the operation you need to use.\n"
   ]
  },
  {
   "cell_type": "code",
   "execution_count": 4,
   "metadata": {
    "colab": {
     "base_uri": "https://localhost:8080/"
    },
    "id": "5sGqo4_nqcor",
    "outputId": "070271a4-b0b9-4879-8063-129df7d65035"
   },
   "outputs": [
    {
     "name": "stdout",
     "output_type": "stream",
     "text": [
      "False\n",
      "10\n",
      "-4\n",
      "21\n"
     ]
    }
   ],
   "source": [
    "# Place your code here\n",
    "# ANSWER\n",
    "print(true_bool == false_bool)\n",
    "print(x+y)\n",
    "print(x-y)\n",
    "print(x*y)"
   ]
  },
  {
   "cell_type": "markdown",
   "metadata": {
    "id": "mlHp3CSnrDnp"
   },
   "source": [
    "Now, let's use operators for strings. The operators + and * can be also used with strings. For * you will need to to use a number. Try it out, and ask for help if you are stuck using + and * with strings."
   ]
  },
  {
   "cell_type": "code",
   "execution_count": 5,
   "metadata": {
    "colab": {
     "base_uri": "https://localhost:8080/"
    },
    "id": "cUXycvHjqrB2",
    "outputId": "60cabf9f-6f09-4a75-a226-64687f11a39c"
   },
   "outputs": [
    {
     "name": "stdout",
     "output_type": "stream",
     "text": [
      "HelloWorld\n",
      "HelloHelloHelloHello\n"
     ]
    }
   ],
   "source": [
    "# Place your code here\n",
    "# ANSWER\n",
    "print(str_1+str_2)\n",
    "print(str_1*4)"
   ]
  },
  {
   "cell_type": "markdown",
   "metadata": {
    "id": "Zscmp8noJ4Wi"
   },
   "source": [
    "To conclude the Exercises on Operators:\n"
   ]
  },
  {
   "cell_type": "markdown",
   "metadata": {
    "id": "irk8pJRoJ6mC"
   },
   "source": [
    "Print the variable my_dna three times."
   ]
  },
  {
   "cell_type": "code",
   "execution_count": 8,
   "metadata": {
    "colab": {
     "base_uri": "https://localhost:8080/",
     "height": 35
    },
    "id": "Pr353JFUJtUR",
    "outputId": "8c029b49-0423-48c3-a228-12887a027cf5"
   },
   "outputs": [
    {
     "data": {
      "application/vnd.google.colaboratory.intrinsic+json": {
       "type": "string"
      },
      "text/plain": [
       "'ATGCGTAATGCGTAATGCGTA'"
      ]
     },
     "execution_count": 8,
     "metadata": {},
     "output_type": "execute_result"
    }
   ],
   "source": [
    "# Your code here\n",
    "# ANSWER\n",
    "my_dna*3"
   ]
  },
  {
   "cell_type": "markdown",
   "metadata": {
    "id": "jzukb5ZTKAkA"
   },
   "source": [
    "Create a variable \"my_dna_2\" with the value \"CATCGGGTA\" and print the concatenation of my_dna with my_dna_2\n",
    "\n",
    "*Hint: concatenation is the string version for adding*"
   ]
  },
  {
   "cell_type": "code",
   "execution_count": 9,
   "metadata": {
    "colab": {
     "base_uri": "https://localhost:8080/"
    },
    "id": "Zze7DoVoJ3uS",
    "outputId": "ee8f2b3d-5e79-469b-ea49-8a472fddcb9b"
   },
   "outputs": [
    {
     "name": "stdout",
     "output_type": "stream",
     "text": [
      "ATGCGTACATCGGGTA\n"
     ]
    }
   ],
   "source": [
    "# Your code here\n",
    "# ANSWER\n",
    "my_dna_2 = 'CATCGGGTA'\n",
    "print(my_dna + my_dna_2)"
   ]
  },
  {
   "cell_type": "markdown",
   "metadata": {
    "id": "fHC3bHDIKBar"
   },
   "source": [
    "On the screen show the following message: \n",
    "```\n",
    "My dna sequence is ATGCGTA and it has length 7\n",
    "```\n",
    "There is mulitple ways to do this! \n",
    "\n",
    "*Hint 1: you can use previously assigned variables*\n",
    "\n",
    "*Hint 2: when using + to concatenate, you can only join the same data type together*"
   ]
  },
  {
   "cell_type": "code",
   "execution_count": null,
   "metadata": {
    "colab": {
     "base_uri": "https://localhost:8080/"
    },
    "id": "bAJbFxYxJ31W",
    "outputId": "15204db5-372b-4045-ee5f-56b9b38360e6"
   },
   "outputs": [
    {
     "name": "stdout",
     "output_type": "stream",
     "text": [
      "My dna sequence is ATGCGTA and it has length 7\n"
     ]
    }
   ],
   "source": [
    "# Your code here\n",
    "# ANSWER\n",
    "print('My dna sequence is ' + my_dna + ' and it has length ' + str(my_dna_length)) # str will change the number 7 to a string so that you can add it to string message"
   ]
  },
  {
   "cell_type": "markdown",
   "metadata": {
    "id": "IPU4c7wlJzoT"
   },
   "source": [
    "## References/Resources\n",
    "[Python Documentation](https://www.python.org/doc/)\n",
    "\n",
    "[Operators](https://docs.python.org/3/)\n",
    "\n",
    "Topics and explanations in this notebook were inspired by [yourgenome.org](https://www.yourgenome.org).\n",
    "\n",
    "Some exercises in this notebook were inspired by [Python for biologists](https://pythonforbiologists.com/upcoming-workshops/introduction-to-python-for-biologists-online-course-13th-24th-july-2020)\n",
    "\n",
    "\n",
    "\n",
    "\n",
    "\n",
    "## About this Notebook\n",
    "This notebook was created by Karla Godinez-Macias and Arjana Begzati for STARTneuro at UC San Diego."
   ]
  }
 ],
 "metadata": {
  "colab": {
   "collapsed_sections": [],
   "name": "Exercises1_Ans.ipynb",
   "provenance": []
  },
  "kernelspec": {
   "display_name": "Python 3",
   "language": "python",
   "name": "python3"
  },
  "language_info": {
   "codemirror_mode": {
    "name": "ipython",
    "version": 3
   },
   "file_extension": ".py",
   "mimetype": "text/x-python",
   "name": "python",
   "nbconvert_exporter": "python",
   "pygments_lexer": "ipython3",
   "version": "3.7.2"
  },
  "toc": {
   "base_numbering": 1,
   "nav_menu": {},
   "number_sections": true,
   "sideBar": true,
   "skip_h1_title": false,
   "title_cell": "Table of Contents",
   "title_sidebar": "Contents",
   "toc_cell": false,
   "toc_position": {},
   "toc_section_display": true,
   "toc_window_display": false
  }
 },
 "nbformat": 4,
 "nbformat_minor": 1
}
