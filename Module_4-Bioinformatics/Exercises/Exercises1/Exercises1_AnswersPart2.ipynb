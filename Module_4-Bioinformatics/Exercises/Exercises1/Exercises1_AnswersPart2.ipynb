{
 "cells": [
  {
   "cell_type": "markdown",
   "metadata": {
    "id": "HausSGH3ZbKc"
   },
   "source": [
    "# Python Basics"
   ]
  },
  {
   "cell_type": "markdown",
   "metadata": {
    "id": "phUJJIGEaMgT"
   },
   "source": [
    "## Why Python?"
   ]
  },
  {
   "cell_type": "markdown",
   "metadata": {
    "id": "2Pc470sfaRDH"
   },
   "source": [
    "There are many programming languages that offer different functionalities. Programmers usually end up using multiple languages depending on what they want to achieve. In bioinformatics, we are often interested in manipulating \"text\", such as DNA and protein sequences... \n",
    "\n",
    "Python is therfore a good choice for bioinformatics analysis because\n",
    "* It has consistent syntax\n",
    "* It has bulilt-in libraries that one can use\n",
    "* Allows for easy manipulatation of text\n"
   ]
  },
  {
   "cell_type": "markdown",
   "metadata": {
    "id": "GeWw-F8hb4tb"
   },
   "source": [
    "## Data Types"
   ]
  },
  {
   "cell_type": "markdown",
   "metadata": {
    "id": "d8AvofVWb4z2"
   },
   "source": [
    "Data types are items that help *classify* or *categorize* data. They represent what kind of *value* each item has. These items are called *variables*."
   ]
  },
  {
   "cell_type": "markdown",
   "metadata": {
    "id": "aIhLEVOWghNp"
   },
   "source": [
    "<img src=\"https://drive.google.com/uc?id=1fiIM9_ydwnK8gYn1mi40QDEiljkZkKy3\">"
   ]
  },
  {
   "cell_type": "markdown",
   "metadata": {
    "id": "VyZHmkS3gAlX"
   },
   "source": [
    "Variables can have any name and any value. For example:"
   ]
  },
  {
   "cell_type": "markdown",
   "metadata": {
    "id": "LBZFjqr9cqHu"
   },
   "source": [
    "A numerical variable is defined as:\n",
    "\n",
    "```\n",
    "numerical_var = 5\n",
    "```\n",
    "A \"string\", or character variable, is defined as:\n",
    "```\n",
    "string_var = \"Hello World\"\n",
    "```\n",
    "A combination of different data types assigned to one variable can be achieved using a list, for example like this:\n",
    "```\n",
    "my_list = [1, 1.34, \"Hello World!\"]\n",
    "```"
   ]
  },
  {
   "cell_type": "markdown",
   "metadata": {
    "id": "_99F1klTirsu"
   },
   "source": [
    "##### Detour 1: Print Function\n",
    "\n",
    "In Python you can use print() to print, or display, a specified message or value on the screen."
   ]
  },
  {
   "cell_type": "markdown",
   "metadata": {
    "id": "WA5jxRFib4-T"
   },
   "source": [
    "We can print a message like this:\n",
    "\n",
    "```\n",
    "print(\"Hi there\")\n",
    "```\n",
    "\n",
    "We can even print a numerical value:\n",
    "```\n",
    "print(193.39)\n",
    "```\n",
    "\n",
    "Also, we can print variables created before. We just have to enter the name of the variable, like this:\n",
    "```\n",
    "print(my_dna)\n",
    "```\n",
    "\n"
   ]
  },
  {
   "cell_type": "markdown",
   "metadata": {
    "id": "WpxE9EJlpjT4"
   },
   "source": [
    "\n",
    "Try printing the values of all variables assigned so far, as well as your own message. We have started this problem for you. \n",
    "\n",
    "Note 1: each print statement should be started on a new line or in a new cell.\n",
    "\n",
    "Note 2: To execute the code, press Shift + Enter, or press the play button in the cell."
   ]
  },
  {
   "cell_type": "code",
   "execution_count": 1,
   "metadata": {
    "id": "1uZZVXTkj-Iw"
   },
   "outputs": [
    {
     "name": "stdout",
     "output_type": "stream",
     "text": [
      "5\n",
      "Hello World\n",
      "[1, 1.34, 'Hello World!']\n",
      "This is my own message - Good job today!\n"
     ]
    }
   ],
   "source": [
    "# ANSWER\n",
    "# assign the variables from above since we only showed them above in a text cell and didn't assign them in a coding cell \n",
    "numerical_var = 5 \n",
    "string_var = \"Hello World\"\n",
    "my_list = [1, 1.34, \"Hello World!\"]\n",
    "# print the variables\n",
    "print(numerical_var)\n",
    "print(string_var)\n",
    "print(my_list)\n",
    "print('This is my own message - Good job today!')\n",
    "\n"
   ]
  },
  {
   "cell_type": "markdown",
   "metadata": {
    "id": "mZVEA8NDy9Mj"
   },
   "source": [
    "##### Detour 2: Comments\n",
    "Something very useful in programming are \"comments\". \n",
    "\n",
    "In Python, the character \"#\" prevents the program from executing the line in front of which \"#\" is placed. This is often used for commenting, or annotating, code, or for preventing certain parts of the code from running (for example, parts that are no longer needed).\n",
    "\n",
    "Here an example of how comments work:"
   ]
  },
  {
   "cell_type": "code",
   "execution_count": 1,
   "metadata": {
    "colab": {
     "base_uri": "https://localhost:8080/"
    },
    "executionInfo": {
     "elapsed": 762,
     "status": "ok",
     "timestamp": 1629123290389,
     "user": {
      "displayName": "Arjana Begzati",
      "photoUrl": "",
      "userId": "03171661714546284763"
     },
     "user_tz": -120
    },
    "id": "KmbYA2NezwPp",
    "outputId": "d85732a0-5648-4fa6-ab03-731e1e90f60d"
   },
   "outputs": [
    {
     "name": "stdout",
     "output_type": "stream",
     "text": [
      "This is a line 1\n",
      "This is line 3\n"
     ]
    }
   ],
   "source": [
    "print('This is a line 1')\n",
    "#print('This is line 2')\n",
    "print('This is line 3')"
   ]
  },
  {
   "cell_type": "markdown",
   "metadata": {
    "id": "cX6FPWpDz4Hv"
   },
   "source": [
    "As you can see from the cell above, when commenting a line of code, the line changes color, allowing us to quickly spot comments. \n",
    "\n",
    "We will be using comments to give you instructions and hits."
   ]
  },
  {
   "cell_type": "markdown",
   "metadata": {
    "id": "41BE8zy3iiBp"
   },
   "source": [
    "Try it out yourself! Comment, and remove the comments below."
   ]
  },
  {
   "cell_type": "code",
   "execution_count": null,
   "metadata": {
    "colab": {
     "base_uri": "https://localhost:8080/"
    },
    "executionInfo": {
     "elapsed": 191,
     "status": "ok",
     "timestamp": 1627403919772,
     "user": {
      "displayName": "Karla Godinez-macias",
      "photoUrl": "",
      "userId": "16412989612094782376"
     },
     "user_tz": 420
    },
    "id": "crrYZ6wn046h",
    "outputId": "55c2c210-73fa-4741-de33-67d5f0d5c99f"
   },
   "outputs": [
    {
     "name": "stdout",
     "output_type": "stream",
     "text": [
      "Comment me\n",
      "Hello World\n"
     ]
    }
   ],
   "source": [
    "print('Comment me')\n",
    "print('Hello World')\n",
    "#print('Uncomment me')"
   ]
  },
  {
   "cell_type": "markdown",
   "metadata": {
    "id": "0kD0mAA6dRAB"
   },
   "source": [
    "### Exercises on Data Types"
   ]
  },
  {
   "cell_type": "markdown",
   "metadata": {
    "id": "unZgvwdCb435"
   },
   "source": [
    "Create a variable called **my_dna** as assign as its value the string: **ATGCGTA**\n"
   ]
  },
  {
   "cell_type": "code",
   "execution_count": 2,
   "metadata": {
    "id": "gX8So7HSdOZ3"
   },
   "outputs": [],
   "source": [
    "# Write your code here\n",
    "# ANSWER\n",
    "my_dna = 'ATGCGTA'"
   ]
  },
  {
   "cell_type": "markdown",
   "metadata": {
    "id": "v-9dV80JxV9Z"
   },
   "source": [
    "Now, let's create a numerical variable called **my_dna_length** and assign as its value the number of nucleotides in my_dna"
   ]
  },
  {
   "cell_type": "code",
   "execution_count": 3,
   "metadata": {
    "id": "tBSbM6fuxXCz"
   },
   "outputs": [],
   "source": [
    "# Write your code here\n",
    "# ANSWER\n",
    "my_dna_length = 7"
   ]
  },
  {
   "cell_type": "markdown",
   "metadata": {
    "id": "cbPzBWMTIEtF"
   },
   "source": [
    "##### Detour 3: Function len( )\n",
    "\n",
    "While it is easy to count the length of my_dna, as the number of characters increases the manual counting gets more difficult ...\n",
    "There is an easier way to do this in Python! We use a function called:\n",
    "```\n",
    "len()\n",
    "```\n",
    "We will describe functions like this one later in more detail, but in practice len() will count every character in a string or every item in a list. For example:\n",
    "```\n",
    "len(\"ABC\")\n",
    "```\n",
    "will count how many characters constitute \"ABC\".\n",
    "\n",
    "Try to get the number of nucleotides for my_dna using len( )."
   ]
  },
  {
   "cell_type": "code",
   "execution_count": 4,
   "metadata": {
    "id": "yF0dsq6yIyNd"
   },
   "outputs": [
    {
     "data": {
      "text/plain": [
       "7"
      ]
     },
     "execution_count": 4,
     "metadata": {},
     "output_type": "execute_result"
    }
   ],
   "source": [
    "# Place your code here\n",
    "# ANSWER\n",
    "len(my_dna)"
   ]
  },
  {
   "cell_type": "markdown",
   "metadata": {
    "id": "-8yGrWq1zwaU"
   },
   "source": [
    "## Operators"
   ]
  },
  {
   "cell_type": "markdown",
   "metadata": {
    "id": "31KSn8ykz4az"
   },
   "source": [
    "Scientists constantly have to manipulate, modify and interpret their data. To do this with programming, we can use arithmetic symbols and operators.\n",
    "\n",
    "We can use them for truth value testing, comparisons, data type conversions, and many other things."
   ]
  },
  {
   "cell_type": "markdown",
   "metadata": {
    "id": "YL6oVVYC4Oo1"
   },
   "source": [
    "<img src=\"https://drive.google.com/uc?id=1-73goDs7Igl3jAfwmsOyy4vXHdbX78il\">"
   ]
  },
  {
   "cell_type": "markdown",
   "metadata": {
    "id": "zQ9qRbZMzwgb"
   },
   "source": [
    "Arithmetic and operator symbols can work for different data types, but they might do different things if the variable is string or integer, for example."
   ]
  },
  {
   "cell_type": "markdown",
   "metadata": {
    "id": "FGPQosSJLbWO"
   },
   "source": [
    "### Exercises on Operators"
   ]
  },
  {
   "cell_type": "code",
   "execution_count": 5,
   "metadata": {
    "id": "am_P7P5_Lan4"
   },
   "outputs": [],
   "source": [
    "# Here we assigned some variables that you will need\n",
    "x = 3\n",
    "y = 7\n",
    "true_bool = True\n",
    "false_bool = False\n",
    "str_1 = \"Hello\"\n",
    "str_2 = \"World\""
   ]
  },
  {
   "cell_type": "markdown",
   "metadata": {
    "id": "YFNrCW_Sq-wJ"
   },
   "source": [
    "Use operators to show if true_bool is equal to false_bool, and do some calculations with x and y.\n",
    "\n",
    "\n",
    "Hint: Refer to the diagram above to find the operation you need to use.\n"
   ]
  },
  {
   "cell_type": "code",
   "execution_count": 6,
   "metadata": {
    "id": "5sGqo4_nqcor"
   },
   "outputs": [
    {
     "name": "stdout",
     "output_type": "stream",
     "text": [
      "False\n",
      "10\n",
      "-4\n",
      "21\n"
     ]
    }
   ],
   "source": [
    "# Place your code here\n",
    "# ANSWER\n",
    "print(true_bool == false_bool)\n",
    "print(x+y)\n",
    "print(x-y)\n",
    "print(x*y)"
   ]
  },
  {
   "cell_type": "markdown",
   "metadata": {
    "id": "mlHp3CSnrDnp"
   },
   "source": [
    "Now, let's use operators for strings. The operators + and * can be also used with strings. For * you will need to to use a number. Try it out, and ask for help if you are stuck using + and * with strings."
   ]
  },
  {
   "cell_type": "code",
   "execution_count": 7,
   "metadata": {
    "id": "cUXycvHjqrB2"
   },
   "outputs": [
    {
     "name": "stdout",
     "output_type": "stream",
     "text": [
      "HelloWorld\n",
      "HelloHelloHelloHello\n"
     ]
    }
   ],
   "source": [
    "# Place your code here\n",
    "# ANSWER\n",
    "print(str_1+str_2)\n",
    "print(str_1*4)"
   ]
  },
  {
   "cell_type": "markdown",
   "metadata": {
    "id": "Zscmp8noJ4Wi"
   },
   "source": [
    "To conclude the Exercises on Operators:\n"
   ]
  },
  {
   "cell_type": "markdown",
   "metadata": {
    "id": "irk8pJRoJ6mC"
   },
   "source": [
    "Print the variable my_dna three times."
   ]
  },
  {
   "cell_type": "code",
   "execution_count": 8,
   "metadata": {
    "id": "Pr353JFUJtUR"
   },
   "outputs": [
    {
     "data": {
      "text/plain": [
       "'ATGCGTAATGCGTAATGCGTA'"
      ]
     },
     "execution_count": 8,
     "metadata": {},
     "output_type": "execute_result"
    }
   ],
   "source": [
    "# Your code here\n",
    "# ANSWER\n",
    "my_dna*3"
   ]
  },
  {
   "cell_type": "markdown",
   "metadata": {
    "id": "jzukb5ZTKAkA"
   },
   "source": [
    "Create a variable \"my_dna_2\" with the value \"CATCGGGTA\" and print the concatenation of my_dna with my_dna_2\n",
    "\n",
    "*Hint: concatenation is the string version for adding*"
   ]
  },
  {
   "cell_type": "code",
   "execution_count": 9,
   "metadata": {
    "id": "Zze7DoVoJ3uS"
   },
   "outputs": [
    {
     "name": "stdout",
     "output_type": "stream",
     "text": [
      "ATGCGTACATCGGGTA\n"
     ]
    }
   ],
   "source": [
    "# Your code here\n",
    "# ANSWER\n",
    "my_dna_2 = 'CATCGGGTA'\n",
    "print(my_dna + my_dna_2)"
   ]
  },
  {
   "cell_type": "markdown",
   "metadata": {
    "id": "fHC3bHDIKBar"
   },
   "source": [
    "On the screen show the following message: \n",
    "```\n",
    "My dna sequence is ATGCGTA and it has length 7\n",
    "```\n",
    "There is mulitple ways to do this! \n",
    "\n",
    "*Hint 1: you can use previously assigned variables*\n",
    "\n",
    "*Hint 2: when using + to concatenate, you can only join the same data type together*"
   ]
  },
  {
   "cell_type": "code",
   "execution_count": 10,
   "metadata": {
    "id": "bAJbFxYxJ31W"
   },
   "outputs": [
    {
     "name": "stdout",
     "output_type": "stream",
     "text": [
      "My dna sequence is ATGCGTA and it has length 7\n"
     ]
    }
   ],
   "source": [
    "# Your code here\n",
    "# ANSWER\n",
    "print('My dna sequence is ' + my_dna + ' and it has length ' + str(my_dna_length)) # str will change the number 7 to a string so that you can add it to string message\n"
   ]
  },
  {
   "cell_type": "markdown",
   "metadata": {
    "id": "Blr1L88x1u2b"
   },
   "source": [
    "## Functions"
   ]
  },
  {
   "cell_type": "markdown",
   "metadata": {
    "id": "SImxCc-brLZ5"
   },
   "source": [
    "Functions are blocks of code that performs an specific task. They typically do one single task, and ideally they do that one task well! We already introduced you to some functions, like print() and len(). \n",
    "\n",
    "There are two type of functions. Built-in functions are the ones that Python created and we can use but not modify (for example print() and len()). The most common built-in functions are [here](https://docs.python.org/3/library/functions.html).\n",
    "\n",
    "A cool thing about programming is that we can create our own functions to serve our needs. To create a function in Python, we use the following format:"
   ]
  },
  {
   "cell_type": "code",
   "execution_count": 11,
   "metadata": {
    "id": "sE1ERCasYVob"
   },
   "outputs": [],
   "source": [
    "# This is called defining a function\n",
    "def say(): # say is the name of the function that we will later use to \"call\" the function\n",
    "    greeting = 'Hello'\n",
    "    print(greeting)"
   ]
  },
  {
   "cell_type": "markdown",
   "metadata": {
    "id": "Hh4jGsaWuFlF"
   },
   "source": [
    "To \"execute\" or run a function, we write the name of the function followed by round brackets. When executing, or running the code, the function will perform, its task. For example:"
   ]
  },
  {
   "cell_type": "code",
   "execution_count": 5,
   "metadata": {
    "colab": {
     "base_uri": "https://localhost:8080/"
    },
    "executionInfo": {
     "elapsed": 195,
     "status": "ok",
     "timestamp": 1626361987061,
     "user": {
      "displayName": "Karla Godinez-macias",
      "photoUrl": "",
      "userId": "16412989612094782376"
     },
     "user_tz": 420
    },
    "id": "ZkUREE0VuPXu",
    "outputId": "fd5e8c71-351b-4db3-e244-cd3c1822d62b"
   },
   "outputs": [
    {
     "name": "stdout",
     "output_type": "stream",
     "text": [
      "Hello\n"
     ]
    }
   ],
   "source": [
    "say()"
   ]
  },
  {
   "cell_type": "markdown",
   "metadata": {
    "id": "0EryaUOqtuu9"
   },
   "source": [
    "Functions can take in *parameters* and do something with them. To do this, we specify the name of the parameter inside the parenthesis, like this:"
   ]
  },
  {
   "cell_type": "code",
   "execution_count": 18,
   "metadata": {
    "executionInfo": {
     "elapsed": 213,
     "status": "ok",
     "timestamp": 1629123955671,
     "user": {
      "displayName": "Arjana Begzati",
      "photoUrl": "",
      "userId": "03171661714546284763"
     },
     "user_tz": -120
    },
    "id": "ZH6I6MejwXGq"
   },
   "outputs": [],
   "source": [
    "def say_my_name(name):\n",
    "    greeting = 'Hello my name is ' + name\n",
    "    print(greeting)"
   ]
  },
  {
   "cell_type": "markdown",
   "metadata": {
    "id": "GTMvZz52xva0"
   },
   "source": [
    "To execute with specific parameters, we input the values of the parameters. We can use the same function with different values for its parameters:"
   ]
  },
  {
   "cell_type": "code",
   "execution_count": 19,
   "metadata": {
    "colab": {
     "base_uri": "https://localhost:8080/"
    },
    "executionInfo": {
     "elapsed": 3,
     "status": "ok",
     "timestamp": 1629123957389,
     "user": {
      "displayName": "Arjana Begzati",
      "photoUrl": "",
      "userId": "03171661714546284763"
     },
     "user_tz": -120
    },
    "id": "N-F6dnXux-sD",
    "outputId": "de53c1a2-1303-4a81-e678-7fbbd26bc842",
    "scrolled": true
   },
   "outputs": [
    {
     "name": "stdout",
     "output_type": "stream",
     "text": [
      "Hello my name is Karla\n",
      "Hello my name is Arjana\n"
     ]
    }
   ],
   "source": [
    "# You can do this:\n",
    "say_my_name('Karla')\n",
    "say_my_name('Arjana')"
   ]
  },
  {
   "cell_type": "code",
   "execution_count": 20,
   "metadata": {
    "colab": {
     "base_uri": "https://localhost:8080/"
    },
    "executionInfo": {
     "elapsed": 3,
     "status": "ok",
     "timestamp": 1629123957390,
     "user": {
      "displayName": "Arjana Begzati",
      "photoUrl": "",
      "userId": "03171661714546284763"
     },
     "user_tz": -120
    },
    "id": "hKDBabXIWWCk",
    "outputId": "56227958-82f8-45b0-d04a-8c2465b46931"
   },
   "outputs": [
    {
     "name": "stdout",
     "output_type": "stream",
     "text": [
      "Hello my name is Karla\n",
      "Hello my name is Arjana\n"
     ]
    }
   ],
   "source": [
    "# Or you can do this:\n",
    "say_my_name(name = 'Karla')\n",
    "say_my_name(name = 'Arjana')"
   ]
  },
  {
   "cell_type": "markdown",
   "metadata": {
    "id": "XITPAbPRTkFb"
   },
   "source": [
    "Now try printing your name!"
   ]
  },
  {
   "cell_type": "code",
   "execution_count": 21,
   "metadata": {
    "id": "KfQrp7AtTn8_"
   },
   "outputs": [
    {
     "name": "stdout",
     "output_type": "stream",
     "text": [
      "Hello my name is Mariel\n",
      "Hello my name is Sarah\n"
     ]
    }
   ],
   "source": [
    "# Your code here\n",
    "# ANSWER\n",
    "say_my_name('Mariel')\n",
    "say_my_name(name='Sarah')"
   ]
  },
  {
   "cell_type": "markdown",
   "metadata": {
    "id": "kkY6SP-zyg6M"
   },
   "source": [
    "Sometimes it is useful to have a function that returns a value. For this, we use \"return\" at the end of the function. A returned value can then be used outside the function, in contrast to a printed value which can only be viewed."
   ]
  },
  {
   "cell_type": "code",
   "execution_count": 22,
   "metadata": {
    "colab": {
     "base_uri": "https://localhost:8080/"
    },
    "executionInfo": {
     "elapsed": 13,
     "status": "ok",
     "timestamp": 1626363482518,
     "user": {
      "displayName": "Karla Godinez-macias",
      "photoUrl": "",
      "userId": "16412989612094782376"
     },
     "user_tz": 420
    },
    "id": "JuBKufTFyddI",
    "outputId": "5d238930-63ea-4e94-dbc8-830c6082b8ef"
   },
   "outputs": [
    {
     "data": {
      "text/plain": [
       "5"
      ]
     },
     "execution_count": 22,
     "metadata": {},
     "output_type": "execute_result"
    }
   ],
   "source": [
    "def summation(var1,var2):\n",
    "    s = var1 + var2\n",
    "    return(s)\n",
    "\n",
    "\n",
    "summation(1,4) # If function is called at the end of the cell, the returned value will be automatically \"printed\". \n",
    "# If the function is called within other code you need to do print(summation(1,4)) to see the returned value."
   ]
  },
  {
   "cell_type": "markdown",
   "metadata": {
    "id": "QvyidP_aXmMy"
   },
   "source": [
    "You can save the returned value as a new variable, like this:"
   ]
  },
  {
   "cell_type": "code",
   "execution_count": 30,
   "metadata": {
    "id": "i2PmSSHNXmbV"
   },
   "outputs": [
    {
     "name": "stdout",
     "output_type": "stream",
     "text": [
      "61\n"
     ]
    }
   ],
   "source": [
    "s = summation(13,48)\n",
    "print(s)"
   ]
  },
  {
   "cell_type": "markdown",
   "metadata": {
    "id": "o8eCCUkw0Big"
   },
   "source": [
    "If the operator is valid for different data types, one function can be used in multiple ways. For example, \"summation(var1,var2)\" can be used for numbers, strings, and even lists..."
   ]
  },
  {
   "cell_type": "code",
   "execution_count": 33,
   "metadata": {
    "colab": {
     "base_uri": "https://localhost:8080/"
    },
    "executionInfo": {
     "elapsed": 190,
     "status": "ok",
     "timestamp": 1626363546798,
     "user": {
      "displayName": "Karla Godinez-macias",
      "photoUrl": "",
      "userId": "16412989612094782376"
     },
     "user_tz": 420
    },
    "id": "xiXIqFUozzTP",
    "outputId": "c2329801-5d89-4240-b59e-810726fe87ac"
   },
   "outputs": [
    {
     "name": "stdout",
     "output_type": "stream",
     "text": [
      "7.5\n",
      "hello world\n",
      "[1, 2, 3, 6, 7, 8, 'hello']\n"
     ]
    }
   ],
   "source": [
    "print(summation(4,3.5))\n",
    "print(summation('hello','world'))\n",
    "list_1 = [1,2,3]\n",
    "print(summation(list_1,[6,7,8,'hello']))"
   ]
  },
  {
   "cell_type": "markdown",
   "metadata": {
    "id": "dpVCwA03z2Of"
   },
   "source": [
    "### Exercises on Functions"
   ]
  },
  {
   "cell_type": "markdown",
   "metadata": {
    "id": "UeepmYW_z4pM"
   },
   "source": [
    "Create a function called up_seq_down that does the following:\n",
    "\n",
    "1. Receives as parameter a DNA sequence\n",
    "2. Creates variable called upstream with value AAA\n",
    "3. Creates variable called downstream with value GGG\n",
    "4. Concatenates upstream, the DNA sequence (input) and downstream\n",
    "5. Returns the concatenated sequence\n",
    "\n",
    "Next, run your function with some different DNA sequences as input.\n",
    "\n",
    "*Hint: Your output should look something like this*\n",
    "```\n",
    "AAATCGAGTGCACTCGGG\n",
    "```\n"
   ]
  },
  {
   "cell_type": "code",
   "execution_count": 40,
   "metadata": {
    "id": "YRp2pJs1yMFh"
   },
   "outputs": [
    {
     "data": {
      "text/plain": [
       "'AAAGCATCGAGGG'"
      ]
     },
     "execution_count": 40,
     "metadata": {},
     "output_type": "execute_result"
    }
   ],
   "source": [
    "# Create your function here\n",
    "# ANSWER\n",
    "def up_seq_down(dna_seq):\n",
    "    upstream = 'AAA'\n",
    "    downstream = \"GGG\"\n",
    "    \n",
    "    seq_concat = upstream + dna_seq + downstream\n",
    "    \n",
    "    return(seq_concat)\n",
    "\n",
    "up_seq_down('GCATCGA')\n"
   ]
  },
  {
   "cell_type": "markdown",
   "metadata": {},
   "source": [
    "Below another for of a valid answer to the question"
   ]
  },
  {
   "cell_type": "code",
   "execution_count": 12,
   "metadata": {},
   "outputs": [
    {
     "name": "stdout",
     "output_type": "stream",
     "text": [
      "AAAGCATCGAGGG\n"
     ]
    }
   ],
   "source": [
    "# Create your function here\n",
    "# ANSWER\n",
    "def up_seq_down(dna_seq):\n",
    "    upstream = 'AAA'\n",
    "    downstream = \"GGG\"\n",
    "    \n",
    "    print (upstream + dna_seq + downstream)\n",
    "    \n",
    "up_seq_down('GCATCGA')"
   ]
  },
  {
   "cell_type": "markdown",
   "metadata": {
    "id": "OpVl4bDz19qH"
   },
   "source": [
    "## Files"
   ]
  },
  {
   "cell_type": "markdown",
   "metadata": {
    "id": "syvdlMqo190J"
   },
   "source": [
    "Python is specially good for working with text files. It is easy to open, write, read, save, or edit the content of a text file. \n",
    "\n",
    "You can learn more about files [here](https://docs.python.org/3/tutorial/inputoutput.html#reading-and-writing-files) (optional).\n"
   ]
  },
  {
   "cell_type": "markdown",
   "metadata": {
    "id": "rTtLsqA4lZp7"
   },
   "source": [
    "Either to access the content of an existing file, or to create a file from scratch, we use the function \"open( )\", and specify what we intend to do with the file. We can, for example, write (\"w\") a file like this:\n",
    "```\n",
    "f = open('my_file.txt','w')\n",
    "f.write('My first file\\n')\n",
    "f.write('This is line two\\n')\n",
    "f.write('And line three')\n",
    "f.close()\n",
    "```\n",
    "Above we create a text file called \"my_file\", assigned it to the variable f, and wrote in it using the function \"write( )\" (The \"\\n\" starts a new line). At last, we used f.close( ) to tell the computer we are done using the file and it can be created on the computer."
   ]
  },
  {
   "cell_type": "markdown",
   "metadata": {
    "id": "n8RwcOAulaD5"
   },
   "source": [
    "### Exercises on Files"
   ]
  },
  {
   "cell_type": "markdown",
   "metadata": {
    "id": "nAxqFhg4laJk"
   },
   "source": [
    "Let's try to recreate the example above, creating our first file."
   ]
  },
  {
   "cell_type": "code",
   "execution_count": 13,
   "metadata": {
    "id": "fbin076Hmy0M"
   },
   "outputs": [],
   "source": [
    "# Place your code here\n",
    "# ANSWER\n",
    "\n",
    "f = open('my_first_file.txt','w')\n",
    "f.write('Line 1 \\n')\n",
    "f.close()"
   ]
  },
  {
   "cell_type": "markdown",
   "metadata": {
    "id": "YU9ZirJknK8c"
   },
   "source": [
    "Now that we have created a file, we can try to read and print its content! To do so, we will use the function \"read( )\" as follows:\n",
    "```\n",
    "f = open('my_file.txt','r')\n",
    "txt = f.read()\n",
    "f.close()\n",
    "print(txt)\n",
    "```"
   ]
  },
  {
   "cell_type": "markdown",
   "metadata": {
    "id": "YphyOmECnSsC"
   },
   "source": [
    "Use the template above to read and print the content of the file you created in the previous step."
   ]
  },
  {
   "cell_type": "code",
   "execution_count": 16,
   "metadata": {
    "id": "IyUIE4H3nLyO"
   },
   "outputs": [
    {
     "name": "stdout",
     "output_type": "stream",
     "text": [
      "Line 1 \n",
      "\n"
     ]
    }
   ],
   "source": [
    "# Place your code here\n",
    "# ANSWER\n",
    "\n",
    "f = open('my_first_file.txt','r')\n",
    "txt = f.read()\n",
    "f.close()\n",
    "print(txt)"
   ]
  },
  {
   "cell_type": "markdown",
   "metadata": {
    "id": "Qeac9idNtkC0"
   },
   "source": [
    "We can also use function \"readlines( )\" to create a list containing each line of the file.\n",
    "```\n",
    "f = open('my_file.txt','r')\n",
    "txt = f.readlines()\n",
    "f.close()\n",
    "print(txt)\n",
    "```"
   ]
  },
  {
   "cell_type": "markdown",
   "metadata": {
    "id": "1BWfYHUhn5N4"
   },
   "source": [
    "There is a file called \"sequences.fasta\" available to you in the same folder as this notebook.\n",
    "Open and read the file, then print its content using read() or readlines()."
   ]
  },
  {
   "cell_type": "code",
   "execution_count": 17,
   "metadata": {
    "id": "l9BgsOV2nz4m"
   },
   "outputs": [
    {
     "name": "stdout",
     "output_type": "stream",
     "text": [
      "['Line 1 \\n']\n"
     ]
    }
   ],
   "source": [
    "# Place your code here\n",
    "# ANSWER\n",
    "\n",
    "f = open('my_first_file.txt','r')\n",
    "txt = f.readlines()\n",
    "f.close()\n",
    "print(txt)"
   ]
  },
  {
   "cell_type": "markdown",
   "metadata": {
    "id": "Xy5ooM3t196p"
   },
   "source": [
    "## Loops"
   ]
  },
  {
   "cell_type": "markdown",
   "metadata": {
    "id": "cK_6_7umyeCX"
   },
   "source": [
    "Loops are a way to iteratively go over a list or string (or any other data type that is iterable) and do the same thing to each item. (For more info see [here](https://www.learnpython.org/en/Loops))."
   ]
  },
  {
   "cell_type": "code",
   "execution_count": 18,
   "metadata": {
    "id": "L0uzpsCZ0Gmz"
   },
   "outputs": [
    {
     "name": "stdout",
     "output_type": "stream",
     "text": [
      "2\n",
      "3\n",
      "5\n",
      "7\n"
     ]
    }
   ],
   "source": [
    "# Run this cell to see how loops work\n",
    "prime_nums = [2, 3, 5, 7]\n",
    "for prime in prime_nums:\n",
    "    print(prime)"
   ]
  },
  {
   "cell_type": "code",
   "execution_count": 19,
   "metadata": {},
   "outputs": [
    {
     "name": "stdout",
     "output_type": "stream",
     "text": [
      "2\n",
      "4\n",
      "6\n",
      "8\n"
     ]
    }
   ],
   "source": [
    "# Another example of a for loop, for even numbers\n",
    "even_nums = [2, 4, 6, 8]\n",
    "for even in even_nums:\n",
    "    print(even)"
   ]
  },
  {
   "cell_type": "markdown",
   "metadata": {
    "id": "e8krUHjV0THX"
   },
   "source": [
    "Next, go through a list of the numbers from 1 to 10 and display their square."
   ]
  },
  {
   "cell_type": "code",
   "execution_count": 20,
   "metadata": {
    "id": "D1Dg80mO0Tic"
   },
   "outputs": [
    {
     "name": "stdout",
     "output_type": "stream",
     "text": [
      "1\n",
      "4\n",
      "9\n",
      "16\n",
      "25\n",
      "36\n",
      "49\n",
      "64\n",
      "81\n",
      "100\n"
     ]
    }
   ],
   "source": [
    "# Place your code here.\n",
    "# ANSWER\n",
    "numb = [1,2,3,4,5,6,7,8,9,10]\n",
    "\n",
    "for square in numb:\n",
    "    print(square**2)"
   ]
  },
  {
   "cell_type": "markdown",
   "metadata": {},
   "source": [
    "Another valid answer for this example is using the function \"range()\". It works well for larger lists, for example squaring numbers from 1 - 100.\n",
    "\n",
    "See below"
   ]
  },
  {
   "cell_type": "code",
   "execution_count": 21,
   "metadata": {
    "scrolled": true
   },
   "outputs": [
    {
     "name": "stdout",
     "output_type": "stream",
     "text": [
      "1\n",
      "4\n",
      "9\n",
      "16\n",
      "25\n",
      "36\n",
      "49\n",
      "64\n",
      "81\n",
      "100\n",
      "121\n",
      "144\n",
      "169\n",
      "196\n",
      "225\n",
      "256\n",
      "289\n",
      "324\n",
      "361\n",
      "400\n",
      "441\n",
      "484\n",
      "529\n",
      "576\n",
      "625\n",
      "676\n",
      "729\n",
      "784\n",
      "841\n",
      "900\n",
      "961\n",
      "1024\n",
      "1089\n",
      "1156\n",
      "1225\n",
      "1296\n",
      "1369\n",
      "1444\n",
      "1521\n",
      "1600\n",
      "1681\n",
      "1764\n",
      "1849\n",
      "1936\n",
      "2025\n",
      "2116\n",
      "2209\n",
      "2304\n",
      "2401\n",
      "2500\n",
      "2601\n",
      "2704\n",
      "2809\n",
      "2916\n",
      "3025\n",
      "3136\n",
      "3249\n",
      "3364\n",
      "3481\n",
      "3600\n",
      "3721\n",
      "3844\n",
      "3969\n",
      "4096\n",
      "4225\n",
      "4356\n",
      "4489\n",
      "4624\n",
      "4761\n",
      "4900\n",
      "5041\n",
      "5184\n",
      "5329\n",
      "5476\n",
      "5625\n",
      "5776\n",
      "5929\n",
      "6084\n",
      "6241\n",
      "6400\n",
      "6561\n",
      "6724\n",
      "6889\n",
      "7056\n",
      "7225\n",
      "7396\n",
      "7569\n",
      "7744\n",
      "7921\n",
      "8100\n",
      "8281\n",
      "8464\n",
      "8649\n",
      "8836\n",
      "9025\n",
      "9216\n",
      "9409\n",
      "9604\n",
      "9801\n",
      "10000\n"
     ]
    }
   ],
   "source": [
    "# Place your code here.\n",
    "# ANSWER\n",
    "\n",
    "for n in range(1,101):\n",
    "    print(n**2)"
   ]
  },
  {
   "cell_type": "markdown",
   "metadata": {
    "id": "IPU4c7wlJzoT"
   },
   "source": [
    "# References/Resources\n",
    "[Python Documentation](https://www.python.org/doc/)\n",
    "\n",
    "[Operators](https://docs.python.org/3/)\n",
    "\n",
    "Topics and explanations in this notebook were inspired by [yourgenome.org](https://www.yourgenome.org).\n",
    "\n",
    "Some exercises in this notebook were inspired by [Python for biologists](https://pythonforbiologists.com/upcoming-workshops/introduction-to-python-for-biologists-online-course-13th-24th-july-2020)\n",
    "\n",
    "\n",
    "\n",
    "\n",
    "\n",
    "# About this Notebook\n",
    "This notebook was created by Karla Godinez-Macias and Arjana Begzati for STARTneuro at UC San Diego."
   ]
  }
 ],
 "metadata": {
  "colab": {
   "collapsed_sections": [],
   "name": "Exercises1.ipynb",
   "provenance": []
  },
  "kernelspec": {
   "display_name": "Python 3",
   "language": "python",
   "name": "python3"
  },
  "language_info": {
   "codemirror_mode": {
    "name": "ipython",
    "version": 3
   },
   "file_extension": ".py",
   "mimetype": "text/x-python",
   "name": "python",
   "nbconvert_exporter": "python",
   "pygments_lexer": "ipython3",
   "version": "3.8.6"
  },
  "toc": {
   "base_numbering": 1,
   "nav_menu": {
    "height": "335.994px",
    "width": "485px"
   },
   "number_sections": true,
   "sideBar": true,
   "skip_h1_title": false,
   "title_cell": "Table of Contents",
   "title_sidebar": "Contents",
   "toc_cell": false,
   "toc_position": {},
   "toc_section_display": true,
   "toc_window_display": false
  }
 },
 "nbformat": 4,
 "nbformat_minor": 1
}
