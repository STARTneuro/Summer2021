{
  "nbformat": 4,
  "nbformat_minor": 0,
  "metadata": {
    "colab": {
      "name": "Exercise 2.ipynb",
      "provenance": [],
      "collapsed_sections": []
    },
    "kernelspec": {
      "name": "python3",
      "display_name": "Python 3"
    },
    "language_info": {
      "name": "python"
    }
  },
  "cells": [
    {
      "cell_type": "markdown",
      "metadata": {
        "id": "mB2E70i0tuV2"
      },
      "source": [
        "# Alignment and Phylogenetic trees"
      ]
    },
    {
      "cell_type": "markdown",
      "metadata": {
        "id": "uT4lFyd7t3q0"
      },
      "source": [
        "## Introduction"
      ]
    },
    {
      "cell_type": "markdown",
      "metadata": {
        "id": "5JVLeJ_euoX3"
      },
      "source": [
        "Online Bioinformatics Tools and Databases are widely available and very useful for understanding genomic data. Some examples of what can be done include finding similarities between DNA/RNA/protein sequences, understanding evolutionary events, and comparing proteins between different species.\n",
        "\n",
        "Even though there are many Bioinformatics databases and tools available to the community, [here](https://docs.google.com/document/d/1oYkS-5gRVQzKOinPwTguxWvcqLHc4quv6H9PuOEJp4k/edit?usp=sharing) is a list of some of the mostly used databases and services, including the ones needed for this exercise.\n",
        "\n"
      ]
    },
    {
      "cell_type": "markdown",
      "metadata": {
        "id": "QSSFPO0P3JRi"
      },
      "source": [
        "First, we will investigate similarity between [innexin family proteins](https://pfam.xfam.org/family/Innexin), and visualize it with [phylogenetic trees](https://www.nature.com/scitable/topicpage/reading-a-phylogenetic-tree-the-meaning-of-41956/)."
      ]
    },
    {
      "cell_type": "markdown",
      "metadata": {
        "id": "Lv02PHd6uAX8"
      },
      "source": [
        "## Challenge"
      ]
    },
    {
      "cell_type": "markdown",
      "metadata": {
        "id": "FbTmsoMyuAdu"
      },
      "source": [
        "21 **Hirudo verbana (HVE)** innexins were painstakingly extracted from an early draft genome. \n",
        "Two pairs have strong similarity (9A and 9B; 11A and 11B). \n",
        "\n",
        "\n",
        "Another leech genome, **Helobdella robusta (HRO)**, also has 21 annotated innexins.  For this exercise, they each have a letter from *A* to *U*."
      ]
    },
    {
      "cell_type": "markdown",
      "metadata": {
        "id": "4yh2ebniuZOG"
      },
      "source": [
        "Our goal is to associate each Helobdella innexin with a Hirudo innexin number.  To do this, we will:\n",
        "1. First, build a multiple sequence alignment and a phylogenetic tree for the Hirudo innexins. \n",
        "\n",
        "This will give us a baseline understanding of the relationships between the Hirudo innexins -- which ones are closest to which others?\n",
        "\n",
        "2. Next, build a multiple sequence alignment and tree for all 42 innexins. \n",
        "\n",
        "We will use this tree, if possible, to assign Hirudo numbers to the Helobdella innexins."
      ]
    },
    {
      "cell_type": "markdown",
      "metadata": {
        "id": "TD1DlcQcO7Kg"
      },
      "source": [
        "## Exercise"
      ]
    },
    {
      "cell_type": "markdown",
      "metadata": {
        "id": "ZrUAHMbQtuoe"
      },
      "source": [
        "## Multiple Sequence Alignment (MSA)"
      ]
    },
    {
      "cell_type": "markdown",
      "metadata": {
        "id": "ri4t1e4A-fTf"
      },
      "source": [
        "**Step 1**\n",
        "\n",
        "First, let's use Clustal alignment, an ON-LINE tool from the EBI. You could find more about Clustal tools [here](http://www.clustal.org/clustal2/)\n",
        "\n",
        "Click [here](https://www.ebi.ac.uk/Tools/msa/clustalo/) to go to Clustal and start doing a multiple sequence alignment."
      ]
    },
    {
      "cell_type": "markdown",
      "metadata": {
        "id": "E6NGWnR--faO"
      },
      "source": [
        "**Step 2** \n",
        "\n",
        "We will first use the [Hirudo innexin protein sequences](https://drive.google.com/file/d/1qiHLVyFIN3_yaSXKM-FuNiI-Waeg1fh2/view?usp=sharing) and try to align them to each other. Open the file with a text editor on your computer, like TextEdit.app on Mac. We will cut and paste the sequences from this file, use default paramenters and submit the alignment.\n",
        "\n",
        "Once Clustal has finished the multiple sequence alignment (MSA) - it might take a couple of seconds - you will see something like this:"
      ]
    },
    {
      "cell_type": "markdown",
      "metadata": {
        "id": "EO1-Azz4KMxA"
      },
      "source": [
        "<img src=\"https://drive.google.com/uc?id=1cAq0RdrL-UmWZ6v6euBhxF_3tsmjGUm2\">"
      ]
    },
    {
      "cell_type": "markdown",
      "metadata": {
        "id": "iQFLDruUGkte"
      },
      "source": [
        "**Question :** What part of the protein is the most conserved?\n",
        "\n",
        "\n",
        "*Hint:* Clustal marks conserved amino acids with \" * \" if all are the same or \" . \" if they are similar\n"
      ]
    },
    {
      "cell_type": "markdown",
      "metadata": {
        "id": "sufdKZljHSlR"
      },
      "source": [
        "*Your answer here*"
      ]
    },
    {
      "cell_type": "markdown",
      "metadata": {
        "id": "C5KrJZ1EGk0X"
      },
      "source": [
        "**Step 3** \n",
        "\n",
        "Now let's take a look at the tree built.  In the results tab, click at the phylogenetic tree for these innexins."
      ]
    },
    {
      "cell_type": "markdown",
      "metadata": {
        "id": "30EK1p62Gk40"
      },
      "source": [
        "**Question :**  Which innexins are closest to each other?  Is there an extreme outlier?  How do outlier sequences look back in the MSA?"
      ]
    },
    {
      "cell_type": "markdown",
      "metadata": {
        "id": "_C3cIt-vGk_g"
      },
      "source": [
        "*Your answer here*"
      ]
    },
    {
      "cell_type": "markdown",
      "metadata": {
        "id": "baw25ORE-fn4"
      },
      "source": [
        "**Step 4**\n",
        "\n",
        "Repeat Step 2 and 3 with the [Hirudo innexin mRNA sequences](https://drive.google.com/file/d/1_fZq7I3PimJyyEhmsKtrWIIzXQhQOwN4/view?usp=sharing)."
      ]
    },
    {
      "cell_type": "markdown",
      "metadata": {
        "id": "V0Nd2Vk3Lcfq"
      },
      "source": [
        "**Question :** Does the mRNA tree have the same topology as the protein tree?  Do any closest pairs change?  What happens to innexin 15?"
      ]
    },
    {
      "cell_type": "markdown",
      "metadata": {
        "id": "tlmmDp7lLcjv"
      },
      "source": [
        "*Your answer here*"
      ]
    },
    {
      "cell_type": "markdown",
      "metadata": {
        "id": "V1c22C7QLcno"
      },
      "source": [
        "**Step 5**\n",
        "\n",
        "Now, let's do a multiple sequence alignment (MSA) combining both innexin protein sequence files. Cut and paste all [42 Hirudo + Helobdella Innexins](https://drive.google.com/file/d/1Z9tQGP57PQWf93VbIBtdTXQOdeg1vAHi/view?usp=sharing) into Clustal.\n",
        "\n",
        "For the alignment, use default parameters, view the multiple sequence alignment (MSA) and inspect the tree."
      ]
    },
    {
      "cell_type": "markdown",
      "metadata": {
        "id": "I3qxS3tGM6ph"
      },
      "source": [
        "**Question :** The Helobdella innexins have letters (A through U).  \n",
        "\n",
        "1. Which Helobdella letters go with which Hirudo numbers?  \n",
        "Build a correspondence table.\n",
        "\n",
        "2. Are any Hirudo innexins left out? \n",
        "3. Any Helobdella innexins? \n",
        "4. What do you recommend for HRO_inx_S?"
      ]
    },
    {
      "cell_type": "markdown",
      "metadata": {
        "id": "Ya2o3OUFM6wQ"
      },
      "source": [
        "*Your answer here*"
      ]
    },
    {
      "cell_type": "markdown",
      "metadata": {
        "id": "FveLTwOSM60U"
      },
      "source": [
        "**Step 6**\n",
        "\n",
        "For the next step, we renumbered the combined innexins. Cut and paste our [renumbered innexins](https://drive.google.com/file/d/15xSsOXs-zUPsyzl4P-wuqXSxhuU-iTX5/view?usp=sharing) into Clustal."
      ]
    },
    {
      "cell_type": "markdown",
      "metadata": {
        "id": "zk-USC5PM66w"
      },
      "source": [
        "**Question :** Do the numbers correspond?  Which innexins have diverged the most?"
      ]
    },
    {
      "cell_type": "markdown",
      "metadata": {
        "id": "qWm8Z3M5Lcr4"
      },
      "source": [
        "*Your answer here*"
      ]
    },
    {
      "cell_type": "markdown",
      "metadata": {
        "id": "HLcGuHwttukJ"
      },
      "source": [
        "##More of Phylogenetic Trees"
      ]
    },
    {
      "cell_type": "markdown",
      "metadata": {
        "id": "YKycwk8KOyOS"
      },
      "source": [
        "Clustal shows trees in a traditional \"cladogram\" layout.\n",
        "\n",
        "[T-REX](http://www.trex.uqam.ca) from University of Queensland (UQAM) has an option for a **radial layout**.  \n",
        "Let's use the dendrogram files (.dnd) to display trees in T-REX."
      ]
    },
    {
      "cell_type": "markdown",
      "metadata": {
        "id": "CAFWuCx6OySP"
      },
      "source": [
        "**Step 7**\n",
        "\n",
        "Open [T-REX](http://www.trex.uqam.ca) and select **Tree Viewer** under Main Menu."
      ]
    },
    {
      "cell_type": "markdown",
      "metadata": {
        "id": "KqTCwp1DOyW-"
      },
      "source": [
        "**Step 8**\n",
        "\n",
        "Cut and paste every character from [combined innexins dendogram](https://drive.google.com/file/d/1X9Pqc81IpHcLeqy5wAQxsOsQCroP4s-i/view?usp=sharing), into the Newick viewer input window.\n",
        "\n",
        "The screen should look something like this:"
      ]
    },
    {
      "cell_type": "markdown",
      "metadata": {
        "id": "jZregnE6OycN"
      },
      "source": [
        "<img src=\"https://drive.google.com/uc?id=1phQMuOS7AP30tnTDNmNUmYS7ziieHSqx\">"
      ]
    },
    {
      "cell_type": "markdown",
      "metadata": {
        "id": "-Ba5pYUntusP"
      },
      "source": [
        "After pasting the characters, click on View Tree.\n",
        "\n",
        "The default tree view is \"horizontal\" and take a look."
      ]
    },
    {
      "cell_type": "markdown",
      "metadata": {
        "id": "YyHYenqJSXnr"
      },
      "source": [
        "**Question :** Where is HRO_inx_S ?"
      ]
    },
    {
      "cell_type": "markdown",
      "metadata": {
        "id": "PvUADZ0uSXuN"
      },
      "source": [
        "*Your answer here*"
      ]
    },
    {
      "cell_type": "markdown",
      "metadata": {
        "id": "6xGwttG-SX0S"
      },
      "source": [
        "**Step 9**\n",
        "\n",
        "Select \"Radial View\" for the tree."
      ]
    },
    {
      "cell_type": "markdown",
      "metadata": {
        "id": "DMJvpaDtSX6r"
      },
      "source": [
        "**Question :** What do you notice with the radial view that was obscured in the horizontal view?  Which innexins are closest to each other?"
      ]
    },
    {
      "cell_type": "markdown",
      "metadata": {
        "id": "skbWxmYmaG8j"
      },
      "source": [
        "*Your answer here*"
      ]
    },
    {
      "cell_type": "markdown",
      "metadata": {
        "id": "AvARLVONaHEy"
      },
      "source": [
        "## Alignment with Octopus genome"
      ]
    },
    {
      "cell_type": "markdown",
      "metadata": {
        "id": "lmvftklGaHLe"
      },
      "source": [
        "For this part, of the challenge, let's add the **Octopus vulgaris** innexins and see how they fit in.\n",
        "\n",
        "We'll label them with OVU once we find them.\n"
      ]
    },
    {
      "cell_type": "markdown",
      "metadata": {
        "id": "npkBTh3waHSA"
      },
      "source": [
        "**Step 10**\n",
        "\n",
        "Open [Uniprot-KB](https://www.uniprot.org) and enter the query below\n",
        "\n",
        "> organism:\"Octopus vulgaris (Common octopus) [6645]\"\n",
        "\n"
      ]
    },
    {
      "cell_type": "markdown",
      "metadata": {
        "id": "HV7wvzVZaHYq"
      },
      "source": [
        "**Question :** How many Octopus proteins are there?"
      ]
    },
    {
      "cell_type": "markdown",
      "metadata": {
        "id": "5ArhHWCwaHgD"
      },
      "source": [
        "*Your answer here*"
      ]
    },
    {
      "cell_type": "markdown",
      "metadata": {
        "id": "tOdL74cXaHms"
      },
      "source": [
        "**Step 11**\n",
        "\n",
        "Now, let's refine the query.\n",
        "\n",
        "We will now restrict to just proteins with \"innexin\" in the protein name and reject proteins with \"fusion\" in the name\n",
        "\n",
        "Enter query:\n",
        "\n",
        "> name:innexin NOT fusion AND organism:\"Octopus vulgaris (Common octopus) [6645]\"\n",
        "\n",
        "Then, display 100 entries, by clicking \"show\" (to the right)"
      ]
    },
    {
      "cell_type": "markdown",
      "metadata": {
        "id": "TPpTiLpeaIE6"
      },
      "source": [
        "**Question :** How many Octopus proteins have been labeled as \"Innexin\"?"
      ]
    },
    {
      "cell_type": "markdown",
      "metadata": {
        "id": "HQqzMiYz6kBw"
      },
      "source": [
        "*Your answer here*"
      ]
    },
    {
      "cell_type": "markdown",
      "metadata": {
        "id": "jZx-0x98aIL8"
      },
      "source": [
        "**Step 12**\n",
        "\n",
        "Download the Octopus innexins.\n",
        "Click on \"download\", and select *FASTA (canonical)* format and uncompressed."
      ]
    },
    {
      "cell_type": "markdown",
      "metadata": {
        "id": "629JELoGaISg"
      },
      "source": [
        "**Question :** What is the name of the file that lands on your computer?"
      ]
    },
    {
      "cell_type": "markdown",
      "metadata": {
        "id": "QlifDAVtaIaO"
      },
      "source": [
        "*Your answer here*"
      ]
    },
    {
      "cell_type": "markdown",
      "metadata": {
        "id": "Q21AzU5gcBIJ"
      },
      "source": [
        "**Step 13**\n",
        "\n",
        "Let's inspect the downloaded file.\n",
        "\n",
        "Then, cut and paste the content into [Clustal](https://www.ebi.ac.uk/Tools/msa/clustalo/). Launch a multiple sequence alignment and click on the Phylogenetic Tree."
      ]
    },
    {
      "cell_type": "markdown",
      "metadata": {
        "id": "Ym1B6E0xcBN6"
      },
      "source": [
        "**Question :** How does the Octopus innexin MSA compare to the leech MSAs?"
      ]
    },
    {
      "cell_type": "markdown",
      "metadata": {
        "id": "n7d4aoh-cBVc"
      },
      "source": [
        "*Your answer here*"
      ]
    },
    {
      "cell_type": "markdown",
      "metadata": {
        "id": "zodlrwrpcBlo"
      },
      "source": [
        "**Question :** Are any of the Octopus innexins nearly identical to each other (tiny leaf distance)?\n",
        "\n",
        "*Hint:* Look at the distances by clicking on \"real\""
      ]
    },
    {
      "cell_type": "markdown",
      "metadata": {
        "id": "spzC_7acc0CH"
      },
      "source": [
        "**Step 14**\n",
        "\n",
        "Scan from top to bottom of the tree and count each \"leaf\" that is distinct, i.e., count nearly identical sequences as just one.\n",
        "\n",
        "Stop counting where a large group of Octopus sequences seems to be a flat series of leaves all by themselves. \n"
      ]
    },
    {
      "cell_type": "markdown",
      "metadata": {
        "id": "HNXKaeyLc0LO"
      },
      "source": [
        "**Question :** How many distinct Octopus innexins seem to be there?"
      ]
    },
    {
      "cell_type": "markdown",
      "metadata": {
        "id": "R8MTGNFlc0TS"
      },
      "source": [
        "*Your answer here*"
      ]
    },
    {
      "cell_type": "markdown",
      "metadata": {
        "id": "ThS3Jbzpc0bm"
      },
      "source": [
        "**Step 15**\n",
        "\n",
        "We used the initial Octopus innexin tree to label highly similar sequences with the same letter.\n",
        "\n",
        "Cut and paste the [Octopus innexin](https://drive.google.com/file/d/1gCIkvN0vASR1RpmRJj8N0QACnbZw-8iu/view?usp=sharing) into Clustal"
      ]
    },
    {
      "cell_type": "markdown",
      "metadata": {
        "id": "nsCq4mVfc0k9"
      },
      "source": [
        "**Question :** Are sequences that are close in the tree labeled with the same letter?"
      ]
    },
    {
      "cell_type": "markdown",
      "metadata": {
        "id": "AHn2XYBydZCf"
      },
      "source": [
        "**Step 16**\n",
        "\n",
        "Let's add in the rest of the annotated Octopus innexins.\n",
        "Same as before, query in uniprot:\n",
        "\n",
        "> name:innexin NOT fusion taxonomy:\"Cephalopoda (cephalopods) [6605]\" NOT organism:vulgaris\n",
        "\n",
        "Download the resulting Octopus maculoides (and one squid) sequences into a *FASTA (canonical)*, not compressed."
      ]
    },
    {
      "cell_type": "markdown",
      "metadata": {
        "id": "29AByqgUdZLg"
      },
      "source": [
        "**Question :** How many sequences? What is the name of the file that landed on your computer?"
      ]
    },
    {
      "cell_type": "markdown",
      "metadata": {
        "id": "33Yw6wrCdZUD"
      },
      "source": [
        "*Your answer here*"
      ]
    },
    {
      "cell_type": "markdown",
      "metadata": {
        "id": "6o4JQhz3dZdJ"
      },
      "source": [
        "**Step 17**\n",
        "\n",
        "As a final step, use a text editor to open the previous file and delete the squid sequence.\n",
        "\n",
        "Then, cut and paste the **Octopus Maculoides** sequences into Clustal. Add the filtered **Octopus Vulgaris** sequences. \n",
        "\n",
        "Take a look at the MSA and the tree from the results."
      ]
    },
    {
      "cell_type": "markdown",
      "metadata": {
        "id": "uWyF-2CqdZms"
      },
      "source": [
        "**Question :** Do the two sets of Octopus sequences pair up?"
      ]
    },
    {
      "cell_type": "markdown",
      "metadata": {
        "id": "YjD27099dZvO"
      },
      "source": [
        "*Your answer here*"
      ]
    },
    {
      "cell_type": "markdown",
      "metadata": {
        "id": "Fw6RJyjedZ6r"
      },
      "source": [
        "## Final Observation"
      ]
    },
    {
      "cell_type": "markdown",
      "metadata": {
        "id": "3irloe-f4Df7"
      },
      "source": [
        "The innexins from the two leech genomes pair up (more or less), as do the innexins from the two octopus genomes. There was a radiation within the clades that is not preserved from one type of organism to the next. \n",
        "\n",
        "The best way to find the innexin family within a new genome is to find the first one.  Take a look at the following paper and this quote"
      ]
    },
    {
      "cell_type": "markdown",
      "metadata": {
        "id": "g5SpJ0m34DsN"
      },
      "source": [
        "> \"These [innexin] proteins share structural features that are characterized by four transmembrane domains, two extracellular loops, and intracellular N- and C-terminal domains.\"\n",
        "\n"
      ]
    },
    {
      "cell_type": "markdown",
      "metadata": {
        "id": "UDwVB2KR4DxS"
      },
      "source": [
        "**Question :** If you had no innexin sequences for a newly sequenced genome and no nearby organisms to use for comparison, how could you go about finding a first innexin protein, given the observation above?"
      ]
    },
    {
      "cell_type": "markdown",
      "metadata": {
        "id": "EnFe79Ql4D2A"
      },
      "source": [
        "*Your answer here*"
      ]
    }
  ]
}